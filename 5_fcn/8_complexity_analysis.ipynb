{
 "cells": [
  {
   "attachments": {},
   "cell_type": "markdown",
   "metadata": {},
   "source": [
    "# Complexity Analysis"
   ]
  },
  {
   "cell_type": "code",
   "execution_count": 1,
   "metadata": {},
   "outputs": [],
   "source": [
    "import numpy as np\n",
    "import matplotlib.pyplot as plt\n",
    "\n",
    "import torch\n",
    "import torch.nn as nn\n",
    "import torch.nn.functional as F\n",
    "\n",
    "import torch.optim as optim\n",
    "from torch.optim.lr_scheduler import StepLR\n",
    "\n",
    "import os\n",
    "from os import listdir\n",
    "\n",
    "from scipy import signal\n",
    "import scipy.io as sio\n",
    "\n",
    "from training_helpers import *"
   ]
  },
  {
   "cell_type": "code",
   "execution_count": 2,
   "metadata": {},
   "outputs": [],
   "source": [
    "## Set random seeds!\n",
    "torch.manual_seed(0)\n",
    "np.random.seed(0)"
   ]
  },
  {
   "cell_type": "code",
   "execution_count": 3,
   "metadata": {},
   "outputs": [],
   "source": [
    "class preamble_detector_fcn(nn.Module):\n",
    "    def __init__(self):\n",
    "        super(preamble_detector_fcn, self).__init__()\n",
    "\n",
    "        self.conv1 = nn.Conv2d(1, 16, (2,35), 1, padding=(0,17), bias=False)\n",
    "        self.conv2 = nn.Conv2d(16, 32, (1,35), 1, padding=(0,17), bias=False)\n",
    "        self.conv3 = nn.Conv2d(32, 1, (1,1), 1, padding=(0,0), bias=False)\n",
    "\n",
    "    def forward(self, x):\n",
    "\n",
    "        x = F.relu(self.conv1(x))\n",
    "        x = F.relu(self.conv2(x))\n",
    "        \n",
    "        x = self.conv3(x)\n",
    "        \n",
    "        x = x.squeeze()\n",
    "\n",
    "        return x"
   ]
  },
  {
   "cell_type": "code",
   "execution_count": 4,
   "metadata": {},
   "outputs": [
    {
     "data": {
      "text/plain": [
       "19072"
      ]
     },
     "execution_count": 4,
     "metadata": {},
     "output_type": "execute_result"
    }
   ],
   "source": [
    "model = preamble_detector_fcn()\n",
    "sum([p.numel() for p in model.parameters()])"
   ]
  },
  {
   "cell_type": "code",
   "execution_count": 5,
   "metadata": {},
   "outputs": [],
   "source": [
    "class preamble_detector(nn.Module):\n",
    "    def __init__(self, len_input):\n",
    "        super(preamble_detector, self).__init__()\n",
    "\n",
    "        self.fc1 = nn.Linear(len_input*2,40)\n",
    "        self.fc2 = nn.Linear(40,16)\n",
    "        self.fc3 = nn.Linear(16,len_input)\n",
    "\n",
    "    def forward(self, x):\n",
    "        x = torch.flatten(x,1)\n",
    "\n",
    "        x = F.relu(self.fc1(x))\n",
    "        x = F.relu(self.fc2(x))\n",
    "        \n",
    "        x = self.fc3(x)\n",
    "        \n",
    "        x = x.squeeze()\n",
    "\n",
    "        return x"
   ]
  },
  {
   "cell_type": "code",
   "execution_count": 6,
   "metadata": {},
   "outputs": [
    {
     "name": "stdout",
     "output_type": "stream",
     "text": [
      "20096\n",
      "58896\n"
     ]
    }
   ],
   "source": [
    "model = preamble_detector(len_input=200)\n",
    "print(sum([p.numel() for p in model.parameters()]))\n",
    "\n",
    "model = preamble_detector(len_input=600)\n",
    "print(sum([p.numel() for p in model.parameters()]))"
   ]
  },
  {
   "cell_type": "code",
   "execution_count": 7,
   "metadata": {},
   "outputs": [],
   "source": [
    "class preamble_detector_ref(nn.Module):\n",
    "    def __init__(self, len_input=200):\n",
    "        super(preamble_detector_ref, self).__init__()\n",
    "        \n",
    "        self.conv1 = nn.Conv2d(1, 32, (1,35), 1)\n",
    "        self.conv2 = nn.Conv2d(32, 8, (1,35), 1)\n",
    "\n",
    "        self.fc1 = nn.Linear(int((len_input-34)/2-34)*8, 16)\n",
    "        self.fc2 = nn.Linear(16, len_input)\n",
    "\n",
    "        self.maxpool1 = nn.MaxPool2d(2)\n",
    "#         self.maxpool2 = nn.MaxPool1d(2)\n",
    "\n",
    "    def forward(self, x):\n",
    "        \n",
    "        x = F.relu(self.conv1(x))\n",
    "        x = self.maxpool1(x)\n",
    "        x = F.relu(self.conv2(x))\n",
    "        \n",
    "        x = torch.flatten(x,1)\n",
    "\n",
    "        x = F.relu(self.fc1(x))\n",
    "        x = self.fc2(x)\n",
    "        \n",
    "#         x = self.fc3(x)\n",
    "        \n",
    "#         x = x.squeeze()\n",
    "\n",
    "        return x"
   ]
  },
  {
   "cell_type": "code",
   "execution_count": 8,
   "metadata": {},
   "outputs": [
    {
     "name": "stdout",
     "output_type": "stream",
     "text": [
      "19808\n",
      "52208\n"
     ]
    }
   ],
   "source": [
    "model = preamble_detector_ref(len_input=200)\n",
    "print(sum([p.numel() for p in model.parameters()]))\n",
    "\n",
    "model = preamble_detector_ref(len_input=600)\n",
    "print(sum([p.numel() for p in model.parameters()]))"
   ]
  },
  {
   "cell_type": "code",
   "execution_count": 9,
   "metadata": {},
   "outputs": [],
   "source": [
    "class preamble_detector_reg(nn.Module):\n",
    "    def __init__(self, len_input=200):\n",
    "        super(preamble_detector_reg, self).__init__()\n",
    "        \n",
    "        self.conv1 = nn.Conv2d(1, 32, (1,35), 1, bias=False)\n",
    "        self.conv2 = nn.Conv2d(32, 8, (1,35), 1, bias=False)\n",
    "\n",
    "        self.fc1 = nn.Linear(int((len_input-34)/2-34)*8, 16)\n",
    "        self.fc2 = nn.Linear(16, 1)\n",
    "#         self.fc3 = nn.Linear(128,len_input)\n",
    "\n",
    "        self.maxpool1 = nn.MaxPool2d(2)\n",
    "\n",
    "    def forward(self, x):\n",
    "        \n",
    "        x = F.relu(self.conv1(x))\n",
    "        x = self.maxpool1(x)\n",
    "        x = F.relu(self.conv2(x))\n",
    "        \n",
    "        x = torch.flatten(x,1)\n",
    "\n",
    "        x = F.relu(self.fc1(x))\n",
    "        x = self.fc2(x)\n",
    "\n",
    "        return x"
   ]
  },
  {
   "cell_type": "code",
   "execution_count": 10,
   "metadata": {},
   "outputs": [
    {
     "name": "stdout",
     "output_type": "stream",
     "text": [
      "16385\n",
      "41985\n"
     ]
    }
   ],
   "source": [
    "model = preamble_detector_reg(len_input=200)\n",
    "print(sum([p.numel() for p in model.parameters()]))\n",
    "\n",
    "model = preamble_detector_reg(len_input=600)\n",
    "print(sum([p.numel() for p in model.parameters()]))"
   ]
  },
  {
   "cell_type": "code",
   "execution_count": 11,
   "metadata": {},
   "outputs": [],
   "source": [
    "torch.set_num_threads(1)\n",
    "len_input = 200"
   ]
  },
  {
   "attachments": {},
   "cell_type": "markdown",
   "metadata": {},
   "source": [
    "FC"
   ]
  },
  {
   "cell_type": "code",
   "execution_count": 12,
   "metadata": {},
   "outputs": [],
   "source": [
    "model = preamble_detector(len_input=len_input)\n",
    "x = torch.randn(1,len_input*2)"
   ]
  },
  {
   "cell_type": "code",
   "execution_count": 13,
   "metadata": {},
   "outputs": [
    {
     "name": "stdout",
     "output_type": "stream",
     "text": [
      "66.4 µs ± 4.82 µs per loop (mean ± std. dev. of 7 runs, 10000 loops each)\n"
     ]
    },
    {
     "data": {
      "text/plain": [
       "<TimeitResult : 66.4 µs ± 4.82 µs per loop (mean ± std. dev. of 7 runs, 10000 loops each)>"
      ]
     },
     "execution_count": 13,
     "metadata": {},
     "output_type": "execute_result"
    }
   ],
   "source": [
    "%%timeit -o\n",
    "model(x)"
   ]
  },
  {
   "cell_type": "code",
   "execution_count": 14,
   "metadata": {},
   "outputs": [],
   "source": [
    "result = _\n",
    "fc_time = result.average\n",
    "fc_params = sum([p.numel() for p in model.parameters()])"
   ]
  },
  {
   "attachments": {},
   "cell_type": "markdown",
   "metadata": {},
   "source": [
    "CNN"
   ]
  },
  {
   "cell_type": "code",
   "execution_count": 15,
   "metadata": {},
   "outputs": [],
   "source": [
    "model = preamble_detector_ref(len_input=len_input)\n",
    "x = torch.randn(1,1,2,len_input)"
   ]
  },
  {
   "cell_type": "code",
   "execution_count": 16,
   "metadata": {},
   "outputs": [
    {
     "name": "stdout",
     "output_type": "stream",
     "text": [
      "239 µs ± 5.44 µs per loop (mean ± std. dev. of 7 runs, 1000 loops each)\n"
     ]
    },
    {
     "data": {
      "text/plain": [
       "<TimeitResult : 239 µs ± 5.44 µs per loop (mean ± std. dev. of 7 runs, 1000 loops each)>"
      ]
     },
     "execution_count": 16,
     "metadata": {},
     "output_type": "execute_result"
    }
   ],
   "source": [
    "%%timeit -o\n",
    "model(x)"
   ]
  },
  {
   "cell_type": "code",
   "execution_count": 17,
   "metadata": {},
   "outputs": [],
   "source": [
    "result = _\n",
    "cnn_time = result.average\n",
    "cnn_params = sum([p.numel() for p in model.parameters()])"
   ]
  },
  {
   "attachments": {},
   "cell_type": "markdown",
   "metadata": {},
   "source": [
    "Reg"
   ]
  },
  {
   "cell_type": "code",
   "execution_count": 18,
   "metadata": {},
   "outputs": [],
   "source": [
    "model = preamble_detector_reg(len_input=len_input)\n",
    "x = torch.randn(1,1,2,len_input)"
   ]
  },
  {
   "cell_type": "code",
   "execution_count": 19,
   "metadata": {},
   "outputs": [
    {
     "name": "stdout",
     "output_type": "stream",
     "text": [
      "234 µs ± 9.42 µs per loop (mean ± std. dev. of 7 runs, 1000 loops each)\n"
     ]
    },
    {
     "data": {
      "text/plain": [
       "<TimeitResult : 234 µs ± 9.42 µs per loop (mean ± std. dev. of 7 runs, 1000 loops each)>"
      ]
     },
     "execution_count": 19,
     "metadata": {},
     "output_type": "execute_result"
    }
   ],
   "source": [
    "%%timeit -o\n",
    "model(x)"
   ]
  },
  {
   "cell_type": "code",
   "execution_count": 20,
   "metadata": {},
   "outputs": [],
   "source": [
    "result = _\n",
    "reg_time = result.average\n",
    "reg_params = sum([p.numel() for p in model.parameters()])"
   ]
  },
  {
   "attachments": {},
   "cell_type": "markdown",
   "metadata": {},
   "source": [
    "FCN"
   ]
  },
  {
   "cell_type": "code",
   "execution_count": 21,
   "metadata": {},
   "outputs": [],
   "source": [
    "model = preamble_detector_fcn()\n",
    "x = torch.randn(1,1,2,len_input)"
   ]
  },
  {
   "cell_type": "code",
   "execution_count": 22,
   "metadata": {},
   "outputs": [
    {
     "name": "stdout",
     "output_type": "stream",
     "text": [
      "201 µs ± 12.9 µs per loop (mean ± std. dev. of 7 runs, 1000 loops each)\n"
     ]
    },
    {
     "data": {
      "text/plain": [
       "<TimeitResult : 201 µs ± 12.9 µs per loop (mean ± std. dev. of 7 runs, 1000 loops each)>"
      ]
     },
     "execution_count": 22,
     "metadata": {},
     "output_type": "execute_result"
    }
   ],
   "source": [
    "%%timeit -o\n",
    "model(x)"
   ]
  },
  {
   "cell_type": "code",
   "execution_count": 23,
   "metadata": {},
   "outputs": [],
   "source": [
    "result = _\n",
    "fcn_time = result.average\n",
    "fcn_params = sum([p.numel() for p in model.parameters()])"
   ]
  },
  {
   "attachments": {},
   "cell_type": "markdown",
   "metadata": {},
   "source": [
    "Corr"
   ]
  },
  {
   "cell_type": "code",
   "execution_count": 24,
   "metadata": {},
   "outputs": [],
   "source": [
    "x = np.random.randn(len_input) + 1j*np.random.randn(len_input)\n",
    "weights = np.random.randn(16) + 1j*np.random.randn(16)"
   ]
  },
  {
   "cell_type": "code",
   "execution_count": 25,
   "metadata": {},
   "outputs": [
    {
     "name": "stdout",
     "output_type": "stream",
     "text": [
      "14.1 µs ± 401 ns per loop (mean ± std. dev. of 7 runs, 100000 loops each)\n"
     ]
    },
    {
     "data": {
      "text/plain": [
       "<TimeitResult : 14.1 µs ± 401 ns per loop (mean ± std. dev. of 7 runs, 100000 loops each)>"
      ]
     },
     "execution_count": 25,
     "metadata": {},
     "output_type": "execute_result"
    }
   ],
   "source": [
    "%%timeit -o\n",
    "np.max(np.abs(np.correlate(x, weights, mode='valid')))"
   ]
  },
  {
   "cell_type": "code",
   "execution_count": 26,
   "metadata": {},
   "outputs": [],
   "source": [
    "result = _\n",
    "corr_time = result.average\n",
    "corr_params = np.prod(weights.size)*2 # multiply by 2 because complex"
   ]
  },
  {
   "cell_type": "code",
   "execution_count": 27,
   "metadata": {},
   "outputs": [],
   "source": [
    "import pandas as pd"
   ]
  },
  {
   "cell_type": "code",
   "execution_count": 28,
   "metadata": {},
   "outputs": [],
   "source": [
    "df = pd.DataFrame(index = ['corr', 'fc', 'cnn', 'fcn'],\n",
    "    data = {\n",
    "                     'times' : [corr_time, fc_time, cnn_time, fcn_time], \n",
    "                     'params' : [corr_params, fc_params, cnn_params, fcn_params]})"
   ]
  },
  {
   "attachments": {},
   "cell_type": "markdown",
   "metadata": {},
   "source": [
    "## Second go"
   ]
  },
  {
   "cell_type": "code",
   "execution_count": 29,
   "metadata": {},
   "outputs": [],
   "source": [
    "len_input = 600"
   ]
  },
  {
   "attachments": {},
   "cell_type": "markdown",
   "metadata": {},
   "source": [
    "FC"
   ]
  },
  {
   "cell_type": "code",
   "execution_count": 30,
   "metadata": {},
   "outputs": [],
   "source": [
    "model = preamble_detector(len_input=len_input)\n",
    "x = torch.randn(1,len_input*2)"
   ]
  },
  {
   "cell_type": "code",
   "execution_count": 31,
   "metadata": {},
   "outputs": [
    {
     "name": "stdout",
     "output_type": "stream",
     "text": [
      "71.4 µs ± 2.21 µs per loop (mean ± std. dev. of 7 runs, 10000 loops each)\n"
     ]
    },
    {
     "data": {
      "text/plain": [
       "<TimeitResult : 71.4 µs ± 2.21 µs per loop (mean ± std. dev. of 7 runs, 10000 loops each)>"
      ]
     },
     "execution_count": 31,
     "metadata": {},
     "output_type": "execute_result"
    }
   ],
   "source": [
    "%%timeit -o\n",
    "model(x)"
   ]
  },
  {
   "cell_type": "code",
   "execution_count": 32,
   "metadata": {},
   "outputs": [],
   "source": [
    "result = _\n",
    "fc_time2 = result.average\n",
    "fc_params2 = sum([p.numel() for p in model.parameters()])"
   ]
  },
  {
   "attachments": {},
   "cell_type": "markdown",
   "metadata": {},
   "source": [
    "CNN"
   ]
  },
  {
   "cell_type": "code",
   "execution_count": 33,
   "metadata": {},
   "outputs": [],
   "source": [
    "model = preamble_detector_ref(len_input=len_input)\n",
    "x = torch.randn(1,1,2,len_input)"
   ]
  },
  {
   "cell_type": "code",
   "execution_count": 34,
   "metadata": {},
   "outputs": [
    {
     "name": "stdout",
     "output_type": "stream",
     "text": [
      "503 µs ± 34.1 µs per loop (mean ± std. dev. of 7 runs, 1000 loops each)\n"
     ]
    },
    {
     "data": {
      "text/plain": [
       "<TimeitResult : 503 µs ± 34.1 µs per loop (mean ± std. dev. of 7 runs, 1000 loops each)>"
      ]
     },
     "execution_count": 34,
     "metadata": {},
     "output_type": "execute_result"
    }
   ],
   "source": [
    "%%timeit -o\n",
    "model(x)"
   ]
  },
  {
   "cell_type": "code",
   "execution_count": 35,
   "metadata": {},
   "outputs": [],
   "source": [
    "result = _\n",
    "cnn_time2 = result.average\n",
    "cnn_params2 = sum([p.numel() for p in model.parameters()])"
   ]
  },
  {
   "attachments": {},
   "cell_type": "markdown",
   "metadata": {},
   "source": [
    "Reg"
   ]
  },
  {
   "cell_type": "code",
   "execution_count": 36,
   "metadata": {},
   "outputs": [],
   "source": [
    "model = preamble_detector_reg(len_input=len_input)\n",
    "x = torch.randn(1,1,2,len_input)"
   ]
  },
  {
   "cell_type": "code",
   "execution_count": 37,
   "metadata": {},
   "outputs": [
    {
     "name": "stdout",
     "output_type": "stream",
     "text": [
      "467 µs ± 15.4 µs per loop (mean ± std. dev. of 7 runs, 1000 loops each)\n"
     ]
    },
    {
     "data": {
      "text/plain": [
       "<TimeitResult : 467 µs ± 15.4 µs per loop (mean ± std. dev. of 7 runs, 1000 loops each)>"
      ]
     },
     "execution_count": 37,
     "metadata": {},
     "output_type": "execute_result"
    }
   ],
   "source": [
    "%%timeit -o\n",
    "model(x)"
   ]
  },
  {
   "cell_type": "code",
   "execution_count": 38,
   "metadata": {},
   "outputs": [],
   "source": [
    "result = _\n",
    "reg_time2 = result.average\n",
    "reg_params2 = sum([p.numel() for p in model.parameters()])"
   ]
  },
  {
   "attachments": {},
   "cell_type": "markdown",
   "metadata": {},
   "source": [
    "FCN"
   ]
  },
  {
   "cell_type": "code",
   "execution_count": 39,
   "metadata": {},
   "outputs": [],
   "source": [
    "model = preamble_detector_fcn()\n",
    "x = torch.randn(1,1,2,len_input)"
   ]
  },
  {
   "cell_type": "code",
   "execution_count": 40,
   "metadata": {},
   "outputs": [
    {
     "name": "stdout",
     "output_type": "stream",
     "text": [
      "383 µs ± 17.3 µs per loop (mean ± std. dev. of 7 runs, 1000 loops each)\n"
     ]
    },
    {
     "data": {
      "text/plain": [
       "<TimeitResult : 383 µs ± 17.3 µs per loop (mean ± std. dev. of 7 runs, 1000 loops each)>"
      ]
     },
     "execution_count": 40,
     "metadata": {},
     "output_type": "execute_result"
    }
   ],
   "source": [
    "%%timeit -o\n",
    "model(x)"
   ]
  },
  {
   "cell_type": "code",
   "execution_count": 41,
   "metadata": {},
   "outputs": [],
   "source": [
    "result = _\n",
    "fcn_time2 = result.average\n",
    "fcn_params2 = sum([p.numel() for p in model.parameters()])"
   ]
  },
  {
   "attachments": {},
   "cell_type": "markdown",
   "metadata": {},
   "source": [
    "Corr"
   ]
  },
  {
   "cell_type": "code",
   "execution_count": 42,
   "metadata": {},
   "outputs": [],
   "source": [
    "x = np.random.randn(len_input) + 1j*np.random.randn(len_input)\n",
    "weights = np.random.randn(32) + 1j*np.random.randn(32)"
   ]
  },
  {
   "cell_type": "code",
   "execution_count": 43,
   "metadata": {},
   "outputs": [
    {
     "name": "stdout",
     "output_type": "stream",
     "text": [
      "29.2 µs ± 1.73 µs per loop (mean ± std. dev. of 7 runs, 10000 loops each)\n"
     ]
    },
    {
     "data": {
      "text/plain": [
       "<TimeitResult : 29.2 µs ± 1.73 µs per loop (mean ± std. dev. of 7 runs, 10000 loops each)>"
      ]
     },
     "execution_count": 43,
     "metadata": {},
     "output_type": "execute_result"
    }
   ],
   "source": [
    "%%timeit -o\n",
    "np.max(np.abs(np.correlate(x, weights, mode='valid')))"
   ]
  },
  {
   "cell_type": "code",
   "execution_count": 44,
   "metadata": {},
   "outputs": [],
   "source": [
    "result = _\n",
    "corr_time2 = result.average\n",
    "corr_params2 = np.prod(weights.size)*2 # multiply by 2 because complex"
   ]
  },
  {
   "cell_type": "code",
   "execution_count": 45,
   "metadata": {},
   "outputs": [],
   "source": [
    "df_times = pd.DataFrame(index = ['Corr', 'FC', 'CNN', 'Reg', 'FCN'],\n",
    "    data = {\n",
    "                     'Input length 200' : [corr_time, fc_time, cnn_time, reg_time, fcn_time], \n",
    "                     'Input length 600' : [corr_time2, fc_time2, cnn_time2, reg_time2, fcn_time2]})\n",
    "\n",
    "df_params = pd.DataFrame(index = ['Corr', 'FC', 'CNN', 'Reg', 'FCN'],\n",
    "    data = {\n",
    "                     'Input length 200' : [corr_params, fc_params, cnn_params, reg_params, fcn_params], \n",
    "                     'Input length 600' : [corr_params2, fc_params2, cnn_params2, reg_params2, fcn_params2]})"
   ]
  },
  {
   "cell_type": "code",
   "execution_count": 46,
   "metadata": {},
   "outputs": [
    {
     "data": {
      "image/png": "[encoded data removed]",
      "text/plain": [
       "<Figure size 720x432 with 2 Axes>"
      ]
     },
     "metadata": {
      "needs_background": "light"
     },
     "output_type": "display_data"
    }
   ],
   "source": [
    "fig, ax = plt.subplots(2,1, figsize=(10,6))#, sharex=\"all\")\n",
    "df_times.plot(ax=ax[0], kind='bar', rot=0)\n",
    "df_params.plot(ax=ax[1], kind='bar', rot=0)\n",
    "# df_params.plot(ax=ax[1], kind='bar', rot=0 )\n",
    "# ax.set_title('Time complexity')\n",
    "# ax.right_ax.set_ylim(0,50000)\n",
    "ax[0].set_title('Estimated Method Complexity')\n",
    "ax[1].set_title('Memory Storage Required per Model')\n",
    "for x in ax: x.get_legend().remove()\n",
    "ax[0].legend(('Input of 200 samples', 'Input of 600 samples'))\n",
    "ax[1].legend(('Input of 200 samples', 'Input of 600 samples'), loc='upper left')\n",
    "ax[1].grid(axis='y')\n",
    "ax[0].grid(axis='y')\n",
    "\n",
    "ax[0].set_ylabel('Runtime in seconds')\n",
    "ax[1].set_ylabel('Num of Parameters')\n",
    "plt.tight_layout()\n",
    "\n",
    "# plt.savefig('figures/complexity.png')"
   ]
  },
  {
   "attachments": {},
   "cell_type": "markdown",
   "metadata": {},
   "source": [
    "## Number of Params Scaling"
   ]
  },
  {
   "cell_type": "code",
   "execution_count": 47,
   "metadata": {},
   "outputs": [],
   "source": [
    "lengths = np.arange(120, 800, 50)\n",
    "macs_fc, macs_fcn, macs_ref, macs_osh = [], [], [], []\n",
    "params_fc, params_fcn, params_ref, params_osh = [], [], [], []\n",
    "\n",
    "for l in lengths:\n",
    "    model = preamble_detector(l)\n",
    "    params = sum([p.numel() for p in model.parameters()])\n",
    "#     macs, params = get_model_complexity_info(model, (l*2,1), as_strings=False, print_per_layer_stat=False, verbose=False)\n",
    "#     macs_fc.append(macs)\n",
    "    params_fc.append(params)\n",
    "    \n",
    "for l in lengths:\n",
    "    model = preamble_detector_fcn()\n",
    "    params = sum([p.numel() for p in model.parameters()])\n",
    "#     macs, params = get_model_complexity_info(model, (1,2,l), as_strings=False, print_per_layer_stat=False, verbose=False)\n",
    "#     macs_fcn.append(macs)\n",
    "    params_fcn.append(params)\n",
    "    \n",
    "for l in lengths:\n",
    "    model = preamble_detector_ref(l)\n",
    "    params = sum([p.numel() for p in model.parameters()])\n",
    "#     macs, params = get_model_complexity_info(model, (1,2,l), as_strings=False, print_per_layer_stat=False, verbose=False)\n",
    "#     macs_ref.append(macs)\n",
    "    params_ref.append(params)\n",
    "    \n",
    "for l in lengths:\n",
    "    model = preamble_detector_reg(l)\n",
    "    params = sum([p.numel() for p in model.parameters()])\n",
    "#     macs, params = get_model_complexity_info(model, (1,2,l), as_strings=False, print_per_layer_stat=False, verbose=False)\n",
    "#     macs_osh.append(macs)\n",
    "    params_osh.append(params)"
   ]
  },
  {
   "cell_type": "code",
   "execution_count": 48,
   "metadata": {},
   "outputs": [
    {
     "data": {
      "image/png": "[encoded data removed]",
      "text/plain": [
       "<Figure size 432x288 with 1 Axes>"
      ]
     },
     "metadata": {
      "needs_background": "light"
     },
     "output_type": "display_data"
    }
   ],
   "source": [
    "plt.plot(lengths, params_fcn, '->', linewidth=2)\n",
    "plt.plot(lengths, params_fc, '--', linewidth=2)\n",
    "plt.plot(lengths, params_ref, '-x', linewidth=2)\n",
    "plt.plot(lengths, params_osh, '-o', linewidth=2)\n",
    "plt.title('Params vs Input Length')\n",
    "plt.grid()\n",
    "plt.xlabel('Input Length')\n",
    "plt.ylabel('Number of Parameters')\n",
    "plt.legend(('Fully Convolutional', 'Fully Connected', 'CNN + classification', 'CNN + regression'))\n",
    "plt.tight_layout()\n",
    "# plt.savefig('figures/params_vs_input.png', dpi=300)"
   ]
  },
  {
   "cell_type": "code",
   "execution_count": 52,
   "metadata": {},
   "outputs": [
    {
     "data": {
      "image/png": "[encoded data removed]",
      "text/plain": [
       "<Figure size 432x288 with 1 Axes>"
      ]
     },
     "metadata": {
      "needs_background": "light"
     },
     "output_type": "display_data"
    }
   ],
   "source": [
    "plt.plot(lengths, params_fcn, '->', linewidth=2)\n",
    "# plt.plot(lengths, params_fc, '--', linewidth=2)\n",
    "plt.plot(lengths, params_ref, '-x', linewidth=2)\n",
    "plt.plot(lengths, params_osh, '-o', linewidth=2)\n",
    "plt.title('Number of Parameters vs Input Length')\n",
    "plt.grid()\n",
    "plt.xlabel('Input Length')\n",
    "plt.ylabel('Number of Parameters')\n",
    "plt.legend(('Fully Convolutional', 'CNN + classification', 'CNN + regression'))\n",
    "plt.tight_layout()\n",
    "plt.savefig('figures/params_vs_input.png', dpi=300, bbox_inches='tight')"
   ]
  },
  {
   "cell_type": "code",
   "execution_count": 50,
   "metadata": {},
   "outputs": [
    {
     "data": {
      "text/plain": [
       "<matplotlib.legend.Legend at 0x7f14c5f9c130>"
      ]
     },
     "execution_count": 50,
     "metadata": {},
     "output_type": "execute_result"
    },
    {
     "data": {
      "image/png": "[encoded data removed]",
      "text/plain": [
       "<Figure size 432x288 with 1 Axes>"
      ]
     },
     "metadata": {
      "needs_background": "light"
     },
     "output_type": "display_data"
    }
   ],
   "source": [
    "plt.semilogy(lengths, params_fcn)\n",
    "plt.semilogy(lengths, params_fc)\n",
    "plt.semilogy(lengths, params_ref)\n",
    "plt.plot(lengths, params_osh)\n",
    "plt.title('Num Params vs Input Length')\n",
    "plt.grid()\n",
    "plt.legend(('Fully Convolutional', 'Fully Conneceted', 'CNN + classification', 'CNN + regression'))"
   ]
  }
 ],
 "metadata": {
  "kernelspec": {
   "display_name": "Python 3",
   "language": "python",
   "name": "python3"
  },
  "language_info": {
   "codemirror_mode": {
    "name": "ipython",
    "version": 3
   },
   "file_extension": ".py",
   "mimetype": "text/x-python",
   "name": "python",
   "nbconvert_exporter": "python",
   "pygments_lexer": "ipython3",
   "version": "3.8.8"
  }
 },
 "nbformat": 4,
 "nbformat_minor": 4
}

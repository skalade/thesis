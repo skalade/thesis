{
 "cells": [
  {
   "attachments": {},
   "cell_type": "markdown",
   "metadata": {},
   "source": [
    "# 2 Automatic Modulation Classification: Deep Learning Baseline\n",
    "\n",
    "In this notebook we will go over some PyTorch basics and build a neural network to classify the same data we had for the ML baseline.\n",
    "\n",
    "## Dependencies\n",
    "\n",
    "NumPy and Matplotlib are still our everlasting friends, additionally we import PyTorch and some useful modules like nn for neural network layers and optim for optimizers."
   ]
  },
  {
   "cell_type": "code",
   "execution_count": 1,
   "metadata": {},
   "outputs": [],
   "source": [
    "import numpy as np\n",
    "import matplotlib.pyplot as plt\n",
    "\n",
    "import torch\n",
    "\n",
    "import torch.nn as nn\n",
    "from torch import optim\n",
    "import torch.nn.functional as F\n",
    "\n",
    "from ml_helpers import *\n",
    "from comms_helpers import *"
   ]
  },
  {
   "attachments": {},
   "cell_type": "markdown",
   "metadata": {},
   "source": [
    "## Data\n",
    "\n",
    "The training data consists of the 5 modulation classes, each consisting of 128 samples per frame. The difference between the classical ML approach with the decision trees and a DL approach with neural networks is that we do not calculate or engineer features anymore - our raw IQ samples are gonna go straight into the Deep Neural Network (DNN) and through layers of abstraction our model will learn relevant features on its own.\n",
    "\n",
    "In terms of data preparation we will concatenate frames of raw samples instead of vectors. Additionally now that we are working with PyTorch, we want our data to be converted to torch tensors rather than numpy arrays (this is pretty straightforward and done in the function below).\n",
    "\n",
    "Since our first layers in the model are going to be convolutional layers (nn.conv2d), the required input tensor shape is (N,C,H,W), where N is the number of frames (or batch size), C is the number of channels (if we were dealing with images this would be RGB), H is the height of our data and W is the width. Complex neural networks aren't quite there yet in mainstream deep learning libraries such as PyTorch, so what people in the wireless communications domain often do is separate the I/Q samples into 2 different channels - in our case we will treat the I/Q channel dimension as the height and the samples as the width.\n",
    "\n",
    "More concretely, 32x128 (32 frames of 128 complex samples) becomes -> 32x1x2x128 (32 tensors with 2 channels for I/Q, and 128 samples per channel)."
   ]
  },
  {
   "cell_type": "code",
   "execution_count": 2,
   "metadata": {},
   "outputs": [],
   "source": [
    "def gen_tensor_data(mod_scheme, num_frames=32, samples_per_frame=128, sps=5, snr=30):\n",
    "            \n",
    "    symbols_required = int(np.ceil(samples_per_frame/sps))*num_frames\n",
    "        \n",
    "    # Mod scheme has to be one of: 'BPSK', 'QPSK', '16-QAM'\n",
    "    if mod_scheme == 'BPSK':\n",
    "        symbols = pulse_shape(generate_bpsk(symbols_required), sps=sps)[:num_frames*samples_per_frame]\n",
    "    elif mod_scheme == 'QPSK':\n",
    "        symbols = pulse_shape(generate_qpsk(symbols_required), sps=sps)[:num_frames*samples_per_frame]\n",
    "    elif mod_scheme == '8-PSK':\n",
    "        symbols = pulse_shape(generate_psk8(symbols_required), sps=sps)[:num_frames*samples_per_frame]\n",
    "    elif mod_scheme == '16-QAM':\n",
    "        symbols = pulse_shape(generate_qam(symbols_required), sps=sps)[:num_frames*samples_per_frame]\n",
    "    elif mod_scheme == '4-ASK':\n",
    "        symbols = pulse_shape(generate_ask4(symbols_required), sps=sps)[:num_frames*samples_per_frame]\n",
    "\n",
    "    # Add noise and split into frames\n",
    "    frames = awgn(symbols.reshape(num_frames,-1), snr)\n",
    "\n",
    "    # Normalize to unit energy per frame\n",
    "    for i, frame in enumerate(frames):\n",
    "        power = np.mean((np.abs(frame)))\n",
    "        frames[i] = frame / power\n",
    "\n",
    "    # Split into I/Q, add extra channel to make a 4-D tensor\n",
    "    return torch.FloatTensor(np.stack((frames.real, frames.imag),axis=1))\n",
    "\n",
    "def gen_data_from_list(mod_scheme, snr_range, num_frames=32, samples_per_frame=128):\n",
    "    \n",
    "    # total dataset size\n",
    "    frames = torch.zeros((num_frames*len(snr_range), 2, samples_per_frame), dtype=torch.float)\n",
    "    \n",
    "    # snrs dataset for multitask\n",
    "    snrs = torch.zeros(num_frames*len(snr_range), dtype=torch.float)\n",
    "    \n",
    "    for i, snr in enumerate(snr_range):\n",
    "        frames[i*num_frames:(i+1)*num_frames] = gen_tensor_data(mod_scheme, num_frames=num_frames, samples_per_frame=samples_per_frame, snr=snr)\n",
    "        snrs[i*num_frames:(i+1)*num_frames] = snr\n",
    "    \n",
    "    return frames, snrs"
   ]
  },
  {
   "cell_type": "code",
   "execution_count": 3,
   "metadata": {},
   "outputs": [],
   "source": [
    "# Function returns a torch dataloader with specified batch_size and num_frames\n",
    "# number of examples per snr level\n",
    "def gen_loader(num_frames=32, samples_per_frame=1024, snr=[30], batch_size=32):\n",
    "    \n",
    "    # Generate the individual waveforms for each modulation scheme\n",
    "    bpsk_data, bpsk_snrs = gen_data_from_list('BPSK', snr, num_frames=num_frames, samples_per_frame=samples_per_frame)\n",
    "    qpsk_data, qpsk_snrs = gen_data_from_list('QPSK', snr, num_frames=num_frames, samples_per_frame=samples_per_frame)\n",
    "    psk_data, psk_snrs = gen_data_from_list('8-PSK', snr, num_frames=num_frames, samples_per_frame=samples_per_frame)\n",
    "    qam_data, qam_snrs = gen_data_from_list('16-QAM', snr, num_frames=num_frames, samples_per_frame=samples_per_frame)\n",
    "    ask_data, ask_snrs = gen_data_from_list('4-ASK', snr, num_frames=num_frames, samples_per_frame=samples_per_frame)\n",
    "    \n",
    "    # Concat them into a single training data tensor\n",
    "    train_data = torch.cat((bpsk_data, qpsk_data, psk_data, qam_data, ask_data))\n",
    "    \n",
    "    # Create class labels\n",
    "    bpsk_labels = torch.zeros(bpsk_data.shape[0])\n",
    "    qpsk_labels = torch.ones(qpsk_data.shape[0])\n",
    "    psk_labels = torch.ones(psk_data.shape[0])*2\n",
    "    qam_labels = torch.ones(qam_data.shape[0])*3\n",
    "    ask_labels = torch.ones(ask_data.shape[0])*4\n",
    "\n",
    "    # Concat class labels\n",
    "    # We will be using cross entropy loss, which expects a long tensor as the label hence the .long() here\n",
    "    train_labels = torch.cat((bpsk_labels, qpsk_labels, psk_labels, qam_labels, ask_labels)).long()\n",
    "    \n",
    "    # SNR labels\n",
    "    train_labels_snr = 1/10**(torch.cat((bpsk_snrs, qpsk_snrs, psk_snrs, qam_snrs, ask_snrs))/10) # linear noise as labels\n",
    "    \n",
    "    # if gpu\n",
    "    train_data = train_data.cuda()\n",
    "    train_labels = train_labels.cuda()\n",
    "    train_labels_snr = train_labels_snr.cuda()\n",
    "    \n",
    "    # Create a Torch dataset\n",
    "    train_dataset = torch.utils.data.TensorDataset(train_data, train_labels, train_labels_snr)\n",
    "    \n",
    "    return torch.utils.data.DataLoader(train_dataset, batch_size=batch_size, shuffle=True)"
   ]
  },
  {
   "attachments": {},
   "cell_type": "markdown",
   "metadata": {},
   "source": [
    "We can generate a test dataloader and see how it behaves. We generate 128 frames per SNR per modulation scheme, so we expect to have 128x3x5=1920 examples."
   ]
  },
  {
   "cell_type": "code",
   "execution_count": 4,
   "metadata": {},
   "outputs": [
    {
     "name": "stdout",
     "output_type": "stream",
     "text": [
      "60\n"
     ]
    }
   ],
   "source": [
    "data_loader = gen_loader(num_frames=128, snr=[10,15,20], batch_size=32)\n",
    "print(len(data_loader))"
   ]
  },
  {
   "attachments": {},
   "cell_type": "markdown",
   "metadata": {},
   "source": [
    "However length is 60... What's wrong? Well torch dataloaders are iterables, and we gave ours a batch_size of 32, meaning each iteration we expect 32 frames to pop out. So if we multiply our result by the batch size"
   ]
  },
  {
   "cell_type": "code",
   "execution_count": 5,
   "metadata": {},
   "outputs": [
    {
     "data": {
      "text/plain": [
       "1920"
      ]
     },
     "execution_count": 5,
     "metadata": {},
     "output_type": "execute_result"
    }
   ],
   "source": [
    "len(data_loader)*32"
   ]
  },
  {
   "attachments": {},
   "cell_type": "markdown",
   "metadata": {},
   "source": [
    "Presto! Exactly what we expected. Now onto the model building.\n",
    "\n",
    "## Model\n",
    "\n",
    "Each PyTorch model is defined as its own class which inherits all of its functionality from the base nn.Module. Typically you only need to flesh out its 2 functions:\n",
    "* **\\_\\_init__** - where we will define all the layers we'll want to use in the model - you can even pass arguments to the constructor and make these conditional!\n",
    "* **forward** - the forward pass function, that actually applies all these layers to our input. If you are familiar with backpropagation, yes this is that forward pass, however the PyTorch autograd capabilities take care of all the training details for us, so we don't really have to worrry about any gradients or backward passes.\n",
    "\n",
    "We will be using a relatively small network with 3 convolutional layers and 2 fully connected layers with the final output being 5 neurons wide for our 5 classes."
   ]
  },
  {
   "cell_type": "code",
   "execution_count": 6,
   "metadata": {},
   "outputs": [],
   "source": [
    "class amc_model(nn.Module):\n",
    "    def __init__(self):\n",
    "        super(amc_model, self).__init__()\n",
    "            \n",
    "        # 3 conv layers with a 9 sample wide kernel and padding so that the\n",
    "        # size of the output remains consistent with the input for each layer\n",
    "        self.convolutions = nn.Sequential(\n",
    "                    nn.Conv1d(2, 64, 3, padding=1),\n",
    "                    nn.MaxPool1d(2),\n",
    "                    nn.ReLU(),\n",
    "                    nn.Conv1d(64, 64, 3, padding=1),\n",
    "                    nn.MaxPool1d(2),\n",
    "                    nn.ReLU(),\n",
    "                    nn.Conv1d(64, 64, 3, padding=1),\n",
    "                    nn.MaxPool1d(2),\n",
    "                    nn.ReLU(),\n",
    "                    nn.Conv1d(64, 64, 3, padding=1),\n",
    "                    nn.MaxPool1d(2),\n",
    "                    nn.ReLU(),\n",
    "                    nn.Conv1d(64, 64, 3, padding=1),\n",
    "                    nn.MaxPool1d(2),\n",
    "                    nn.ReLU(),\n",
    "                    nn.Conv1d(64, 64, 3, padding=1),\n",
    "                    nn.MaxPool1d(2),\n",
    "                    nn.ReLU(),\n",
    "                    nn.Conv1d(64, 64, 3, padding=1),\n",
    "                    nn.MaxPool1d(2),\n",
    "                    nn.ReLU()\n",
    "                    )\n",
    "        \n",
    "        # 128 samples x 16 output filters x 2 channels (I/Q) = 4096\n",
    "        self.fc1 = nn.Linear(512, 128)\n",
    "        self.fc2 = nn.Linear(128, 128)\n",
    "        self.fc3 = nn.Linear(128, 5)\n",
    "\n",
    "    def forward(self, x):\n",
    "        \n",
    "        # Extract features with convolutional layers\n",
    "        x = self.convolutions(x)\n",
    "        \n",
    "        # Flatten so it's compatible with fully connected layers for classification\n",
    "        x = torch.flatten(x,1)\n",
    "#         print(x.shape)\n",
    "        \n",
    "#         First fully connected layer\n",
    "        x = F.selu(self.fc1(x))\n",
    "        \n",
    "        # Final layer responsible for classifying the 5 modulation schemes\n",
    "        x = F.selu(self.fc2(x))\n",
    "        \n",
    "        x = self.fc3(x)\n",
    "        \n",
    "        return x"
   ]
  },
  {
   "attachments": {},
   "cell_type": "markdown",
   "metadata": {},
   "source": [
    "We can instantiate our model like we do any other object in Python. Additionally PyTorch gives us a handy summary of what we have going."
   ]
  },
  {
   "cell_type": "code",
   "execution_count": 7,
   "metadata": {},
   "outputs": [
    {
     "data": {
      "text/plain": [
       "amc_model(\n",
       "  (convolutions): Sequential(\n",
       "    (0): Conv1d(2, 64, kernel_size=(3,), stride=(1,), padding=(1,))\n",
       "    (1): MaxPool1d(kernel_size=2, stride=2, padding=0, dilation=1, ceil_mode=False)\n",
       "    (2): ReLU()\n",
       "    (3): Conv1d(64, 64, kernel_size=(3,), stride=(1,), padding=(1,))\n",
       "    (4): MaxPool1d(kernel_size=2, stride=2, padding=0, dilation=1, ceil_mode=False)\n",
       "    (5): ReLU()\n",
       "    (6): Conv1d(64, 64, kernel_size=(3,), stride=(1,), padding=(1,))\n",
       "    (7): MaxPool1d(kernel_size=2, stride=2, padding=0, dilation=1, ceil_mode=False)\n",
       "    (8): ReLU()\n",
       "    (9): Conv1d(64, 64, kernel_size=(3,), stride=(1,), padding=(1,))\n",
       "    (10): MaxPool1d(kernel_size=2, stride=2, padding=0, dilation=1, ceil_mode=False)\n",
       "    (11): ReLU()\n",
       "    (12): Conv1d(64, 64, kernel_size=(3,), stride=(1,), padding=(1,))\n",
       "    (13): MaxPool1d(kernel_size=2, stride=2, padding=0, dilation=1, ceil_mode=False)\n",
       "    (14): ReLU()\n",
       "    (15): Conv1d(64, 64, kernel_size=(3,), stride=(1,), padding=(1,))\n",
       "    (16): MaxPool1d(kernel_size=2, stride=2, padding=0, dilation=1, ceil_mode=False)\n",
       "    (17): ReLU()\n",
       "    (18): Conv1d(64, 64, kernel_size=(3,), stride=(1,), padding=(1,))\n",
       "    (19): MaxPool1d(kernel_size=2, stride=2, padding=0, dilation=1, ceil_mode=False)\n",
       "    (20): ReLU()\n",
       "  )\n",
       "  (fc1): Linear(in_features=512, out_features=128, bias=True)\n",
       "  (fc2): Linear(in_features=128, out_features=128, bias=True)\n",
       "  (fc3): Linear(in_features=128, out_features=5, bias=True)\n",
       ")"
      ]
     },
     "execution_count": 7,
     "metadata": {},
     "output_type": "execute_result"
    }
   ],
   "source": [
    "model = amc_model()\n",
    "model"
   ]
  },
  {
   "attachments": {},
   "cell_type": "markdown",
   "metadata": {},
   "source": [
    "## Training loop\n",
    "\n",
    "Most PyTorch training loops will look very similar to this. Main things we are doing here for every loop are:\n",
    "* Zero out / clear the optimizer gradients\n",
    "* Use model to predict the training dataset classes\n",
    "* Evaluate predictions using a loss function (categorical cross-entropy in our case, very popular for classification)\n",
    "* Do a backwards pass (backpropagation) from the error\n",
    "* Update model weights based on the gradients (optimizer does all this for us)\n",
    "\n",
    "Additional validation steps\n",
    "* Use model to predict validation dataset classes\n",
    "* Compare the result with the previous best, and if this is better save this model state\n",
    "\n",
    "The function will return the model state dictionary, containing all the saved weights, of the model that performed best on the validation dataset."
   ]
  },
  {
   "cell_type": "code",
   "execution_count": 8,
   "metadata": {},
   "outputs": [],
   "source": [
    "# Function that incorporates the entire training loop of our model, trains model\n",
    "# for num_epochs number of epochs, validates after each epoch, saves and returns\n",
    "# only the best performing model on the validation set\n",
    "def train_model(model, optimizer, train_loader, val_loader, num_epochs=5, verbose=True):\n",
    "\n",
    "    # Pre-allocate empty lists for losses storage\n",
    "    losses, val_losses = [], []\n",
    "    \n",
    "    # Define our evaluation criterion\n",
    "    loss_fn = nn.CrossEntropyLoss()#nn.MSELoss()\n",
    "\n",
    "    # Main training loop\n",
    "    for epoch in range(num_epochs):  # loop over the dataset multiple times\n",
    "\n",
    "        running_loss = 0\n",
    "\n",
    "        best_loss = np.inf\n",
    "\n",
    "        # Loop over entire training loader\n",
    "        for x_train, y_train, _ in train_loader:\n",
    "\n",
    "            # zero the parameter gradients\n",
    "            optimizer.zero_grad()\n",
    "\n",
    "            # forward + backward + optimize\n",
    "            outputs = model(x_train)\n",
    "            loss = loss_fn(outputs, y_train)\n",
    "            loss.backward()\n",
    "            optimizer.step()\n",
    "\n",
    "            # Add to running loss, average later\n",
    "            running_loss = running_loss + loss.item()\n",
    "\n",
    "        # Append average loss for this epoch to losses list\n",
    "        losses.append(running_loss/len(train_loader))\n",
    "\n",
    "        # Evaluate validation loss\n",
    "\n",
    "        with torch.no_grad():\n",
    "\n",
    "            running_val_loss = 0\n",
    "\n",
    "            for x_val, y_val, _ in val_loader:\n",
    "\n",
    "                # evaluate validation loss\n",
    "                val_outputs = model(x_val)\n",
    "                val_loss = loss_fn(val_outputs, y_val)\n",
    "\n",
    "                running_val_loss = running_val_loss + val_loss.item()\n",
    "\n",
    "            val_losses.append(running_val_loss/len(val_loader))\n",
    "\n",
    "        if val_losses[-1] < best_loss:\n",
    "            saved_model = model.state_dict()\n",
    "            best_loss = val_losses[-1]\n",
    "            \n",
    "        if verbose:\n",
    "            print('Epoch {}: Loss {}'.format(epoch,losses[-1]))\n",
    "\n",
    "    # Load best model\n",
    "    model.load_state_dict(saved_model)\n",
    "    \n",
    "    return model, losses, val_losses"
   ]
  },
  {
   "attachments": {},
   "cell_type": "markdown",
   "metadata": {},
   "source": [
    "Now we can train our model. For starters we can use just a single relatively high SNR level and get a basic DL baseline to compare against our ML baseline.\n",
    "\n",
    "### Find Initial Baseline"
   ]
  },
  {
   "cell_type": "code",
   "execution_count": 9,
   "metadata": {},
   "outputs": [
    {
     "name": "stdout",
     "output_type": "stream",
     "text": [
      "Epoch 0: Loss 1.0271103005856275\n",
      "Epoch 1: Loss 0.7163114419206977\n",
      "Epoch 2: Loss 0.6681997457519173\n",
      "Epoch 3: Loss 0.6669220132753253\n",
      "Epoch 4: Loss 0.6640759881585836\n",
      "Epoch 5: Loss 0.8475537464022637\n",
      "Epoch 6: Loss 0.35817871410399676\n",
      "Epoch 7: Loss 0.1972943199099973\n",
      "Epoch 8: Loss 0.12844098282512278\n",
      "Epoch 9: Loss 0.09609470744471764\n",
      "Epoch 10: Loss 0.06420509605450206\n",
      "Epoch 11: Loss 0.04655155019208905\n",
      "Epoch 12: Loss 0.030641211843976633\n",
      "Epoch 13: Loss 0.020733095078685437\n",
      "Epoch 14: Loss 0.03035077810727671\n",
      "Epoch 15: Loss 0.012167231940293278\n",
      "Epoch 16: Loss 0.018791868698644975\n",
      "Epoch 17: Loss 0.008509465376027947\n",
      "Epoch 18: Loss 0.010229975703305172\n",
      "Epoch 19: Loss 0.00941474948740506\n"
     ]
    }
   ],
   "source": [
    "train_snr = [15]\n",
    "\n",
    "train_loader = gen_loader(num_frames=1024, snr=train_snr, batch_size=32)\n",
    "val_loader = gen_loader(num_frames=128, snr=train_snr, batch_size=32)\n",
    "\n",
    "model = amc_model().cuda() # we convert model to cuda because we want to use our GPU\n",
    "\n",
    "optimizer = torch.optim.Adam(model.parameters(), lr=0.001, weight_decay=0.0001)\n",
    "\n",
    "model, losses, val_losses = train_model(model, optimizer, train_loader, val_loader, num_epochs=20)"
   ]
  },
  {
   "attachments": {},
   "cell_type": "markdown",
   "metadata": {},
   "source": [
    "Plotting the training and validation losses we see that the model starts overfitting around the 5th epoch, so only models up to that point will be saved."
   ]
  },
  {
   "cell_type": "code",
   "execution_count": 10,
   "metadata": {},
   "outputs": [
    {
     "data": {
      "text/plain": [
       "<matplotlib.legend.Legend at 0x7f9970f43550>"
      ]
     },
     "execution_count": 10,
     "metadata": {},
     "output_type": "execute_result"
    },
    {
     "data": {
      "image/png": "[encoded data removed]",
      "text/plain": [
       "<Figure size 432x288 with 1 Axes>"
      ]
     },
     "metadata": {
      "needs_background": "light"
     },
     "output_type": "display_data"
    }
   ],
   "source": [
    "plt.plot(losses)\n",
    "plt.plot(val_losses)\n",
    "plt.title('Training Performance')\n",
    "plt.xlabel('Epochs'); plt.ylabel('Cross-Entropy Loss')\n",
    "plt.legend(('Training', 'Validation'))"
   ]
  },
  {
   "attachments": {},
   "cell_type": "markdown",
   "metadata": {},
   "source": [
    "We can test the saved model under a range of SNRs and compare with our achieved decision tree baseline in the previous notebook."
   ]
  },
  {
   "cell_type": "code",
   "execution_count": 11,
   "metadata": {},
   "outputs": [],
   "source": [
    "def test_model(model, snr_range, samples_per_frame=128, num_frames=512):\n",
    "    accs = []\n",
    "\n",
    "    correct = 0\n",
    "    total = 0\n",
    "\n",
    "    model.eval().cpu()\n",
    "\n",
    "    with torch.no_grad():\n",
    "        for snr in snr_range:\n",
    "\n",
    "            bpsk_data = gen_tensor_data('BPSK', num_frames=num_frames, samples_per_frame=samples_per_frame, snr=snr)\n",
    "            qpsk_data = gen_tensor_data('QPSK', num_frames=num_frames, samples_per_frame=samples_per_frame, snr=snr)\n",
    "            psk_data = gen_tensor_data('8-PSK', num_frames=num_frames, samples_per_frame=samples_per_frame, snr=snr)\n",
    "            qam_data = gen_tensor_data('16-QAM', num_frames=num_frames, samples_per_frame=samples_per_frame, snr=snr)\n",
    "            ask_data = gen_tensor_data('4-ASK', num_frames=num_frames, samples_per_frame=samples_per_frame, snr=snr)\n",
    "\n",
    "            test_data = torch.cat((bpsk_data, qpsk_data, psk_data, qam_data, ask_data))\n",
    "\n",
    "            bpsk_labels = torch.zeros(bpsk_data.shape[0])\n",
    "            qpsk_labels = torch.ones(qpsk_data.shape[0])\n",
    "            psk_labels = torch.ones(qam_data.shape[0])*2\n",
    "            qam_labels = torch.ones(qam_data.shape[0])*3\n",
    "            ask_labels = torch.ones(ask_data.shape[0])*4\n",
    "\n",
    "            test_labels = torch.cat((bpsk_labels, qpsk_labels, psk_labels, qam_labels, ask_labels))\n",
    "\n",
    "            results = torch.argmax(model(test_data),axis=1)\n",
    "            accs.append(torch.sum(results == test_labels).float() / test_data.shape[0])\n",
    "            \n",
    "    return accs"
   ]
  },
  {
   "cell_type": "code",
   "execution_count": 13,
   "metadata": {},
   "outputs": [
    {
     "data": {
      "image/png": "[encoded data removed]",
      "text/plain": [
       "<Figure size 432x288 with 1 Axes>"
      ]
     },
     "metadata": {
      "needs_background": "light"
     },
     "output_type": "display_data"
    }
   ],
   "source": [
    "# Load DT baseline\n",
    "ml_baseline = np.load('baselines/ml_baseline.npy')\n",
    "\n",
    "# Specify test SNR range\n",
    "snr_range = np.arange(-10,25)\n",
    "\n",
    "# Test model\n",
    "accs_w2 = test_model(model, snr_range, samples_per_frame=1024)\n",
    "\n",
    "# Plot results\n",
    "plt.plot(snr_range, ml_baseline)\n",
    "plt.plot(snr_range, accs_w2)\n",
    "plt.grid()\n",
    "plt.title('Accuracy Comparison')\n",
    "plt.xlabel('SNR'); plt.ylabel('Accuracy')\n",
    "plt.legend(('Decision Tree (ML)', 'Neural Network (DL)'))\n",
    "plt.show()"
   ]
  },
  {
   "attachments": {},
   "cell_type": "markdown",
   "metadata": {},
   "source": [
    "### Train Over A Range of SNRs\n",
    "\n",
    "Let's see if we can improve performance by increasing the amount of data we are training on."
   ]
  },
  {
   "cell_type": "code",
   "execution_count": 14,
   "metadata": {},
   "outputs": [
    {
     "name": "stdout",
     "output_type": "stream",
     "text": [
      "Epoch 0: Loss 0.6354171442418275\n",
      "Epoch 1: Loss 0.1870127624990842\n",
      "Epoch 2: Loss 0.11121225724094654\n",
      "Epoch 3: Loss 0.05912165755977516\n",
      "Epoch 4: Loss 0.056182194337502135\n",
      "Epoch 5: Loss 0.03679030899597406\n",
      "Epoch 6: Loss 0.035051047616798316\n",
      "Epoch 7: Loss 0.027680598973223492\n",
      "Epoch 8: Loss 0.02700794280407618\n",
      "Epoch 9: Loss 0.02607410112935792\n",
      "Epoch 10: Loss 0.022713317225927974\n",
      "Epoch 11: Loss 0.02797176372690625\n",
      "Epoch 12: Loss 0.025718092325932543\n",
      "Epoch 13: Loss 0.01596033000211967\n",
      "Epoch 14: Loss 0.01870269095218191\n"
     ]
    },
    {
     "data": {
      "image/png": "[encoded data removed]",
      "text/plain": [
       "<Figure size 432x288 with 1 Axes>"
      ]
     },
     "metadata": {
      "needs_background": "light"
     },
     "output_type": "display_data"
    }
   ],
   "source": [
    "num_epochs = 15\n",
    "\n",
    "train_snr = np.arange(0,21,2)\n",
    "\n",
    "train_loader = gen_loader(num_frames=512, snr=train_snr, batch_size=32)\n",
    "val_loader = gen_loader(num_frames=128, snr=train_snr, batch_size=32)\n",
    "\n",
    "model = amc_model().cuda()\n",
    "\n",
    "optimizer = torch.optim.Adam(model.parameters(), lr=0.001, weight_decay=0.0001)\n",
    "\n",
    "model, losses, val_losses = train_model(model, optimizer, train_loader, val_loader, num_epochs=num_epochs)\n",
    "\n",
    "plt.plot(losses)\n",
    "plt.plot(val_losses)\n",
    "plt.title('Training Performance')\n",
    "plt.xlabel('Epochs'); plt.ylabel('Cross-Entropy Loss')\n",
    "plt.legend(('Training', 'Validation'))\n",
    "plt.show()"
   ]
  },
  {
   "attachments": {},
   "cell_type": "markdown",
   "metadata": {},
   "source": [
    "## Test results"
   ]
  },
  {
   "cell_type": "code",
   "execution_count": 15,
   "metadata": {},
   "outputs": [
    {
     "data": {
      "image/png": "[encoded data removed]",
      "text/plain": [
       "<Figure size 432x288 with 1 Axes>"
      ]
     },
     "metadata": {
      "needs_background": "light"
     },
     "output_type": "display_data"
    }
   ],
   "source": [
    "accs = test_model(model, snr_range, samples_per_frame=1024)\n",
    "# plt.plot(snr_range, ml_baseline)\n",
    "plt.plot(snr_range, accs_w2)\n",
    "plt.plot(snr_range, accs)\n",
    "plt.grid()\n",
    "plt.title('Accuracy Comparison')\n",
    "plt.xlabel('SNR'); plt.ylabel('Accuracy')\n",
    "plt.legend(('Decision Tree (ML)', 'Neural Network 1 (DL)', 'Neural Network 2 (DL)'))\n",
    "plt.show()"
   ]
  },
  {
   "attachments": {},
   "cell_type": "markdown",
   "metadata": {},
   "source": [
    "Let's save our best DL result as another baseline for future comparisons."
   ]
  },
  {
   "cell_type": "code",
   "execution_count": 16,
   "metadata": {},
   "outputs": [],
   "source": [
    "np.savez('baselines/dl_baseline.npz', accs=accs, snr_range=snr_range)"
   ]
  },
  {
   "attachments": {},
   "cell_type": "markdown",
   "metadata": {},
   "source": [
    "## Add MTL"
   ]
  },
  {
   "cell_type": "code",
   "execution_count": 18,
   "metadata": {},
   "outputs": [],
   "source": [
    "class amc_model_mtl(nn.Module):\n",
    "    def __init__(self):\n",
    "        super(amc_model_mtl, self).__init__()\n",
    "            \n",
    "        # 3 conv layers with a 9 sample wide kernel and padding so that the\n",
    "        # size of the output remains consistent with the input for each layer\n",
    "        self.convolutions = nn.Sequential(\n",
    "                    nn.Conv1d(2, 64, 3, padding=1),\n",
    "                    nn.MaxPool1d(2),\n",
    "                    nn.ReLU(),\n",
    "                    nn.Conv1d(64, 64, 3, padding=1),\n",
    "                    nn.MaxPool1d(2),\n",
    "                    nn.ReLU(),\n",
    "                    nn.Conv1d(64, 64, 3, padding=1),\n",
    "                    nn.MaxPool1d(2),\n",
    "                    nn.ReLU(),\n",
    "                    nn.Conv1d(64, 64, 3, padding=1),\n",
    "                    nn.MaxPool1d(2),\n",
    "                    nn.ReLU(),\n",
    "                    nn.Conv1d(64, 64, 3, padding=1),\n",
    "                    nn.MaxPool1d(2),\n",
    "                    nn.ReLU(),\n",
    "                    nn.Conv1d(64, 64, 3, padding=1),\n",
    "                    nn.MaxPool1d(2),\n",
    "                    nn.ReLU(),\n",
    "                    nn.Conv1d(64, 64, 3, padding=1),\n",
    "                    nn.MaxPool1d(2),\n",
    "                    nn.ReLU()\n",
    "                    )\n",
    "        \n",
    "        # Noise estimator network\n",
    "        self.noise_estimator = nn.Sequential(\n",
    "                                    nn.Linear(512,512),\n",
    "                                    nn.ReLU(),\n",
    "                                    nn.Linear(512,128),\n",
    "                                    nn.ReLU(),\n",
    "                                    nn.Linear(128,64),\n",
    "                                    nn.Tanh(),\n",
    "                                    nn.Linear(64,1))\n",
    "        \n",
    "        # 128 samples x 16 output filters x 2 channels (I/Q) = 4096\n",
    "        self.fc1 = nn.Linear(512, 128)\n",
    "        self.fc2 = nn.Linear(128, 128)\n",
    "        self.fc3 = nn.Linear(128, 5)\n",
    "\n",
    "    def forward(self, x):\n",
    "        \n",
    "        # Extract features with convolutional layers\n",
    "        x = self.convolutions(x)\n",
    "        \n",
    "        # Flatten so it's compatible with fully connected layers for classification\n",
    "        x_shared = torch.flatten(x,1)\n",
    "#         print(x.shape)\n",
    "        \n",
    "#         First fully connected layer\n",
    "        y = F.selu(self.fc1(x_shared))\n",
    "        \n",
    "        # Final layer responsible for classifying the 5 modulation schemes\n",
    "        y = F.selu(self.fc2(y))\n",
    "        \n",
    "        y = self.fc3(y)\n",
    "        \n",
    "        n = self.noise_estimator(x_shared).squeeze()\n",
    "        \n",
    "        return y, n"
   ]
  },
  {
   "cell_type": "code",
   "execution_count": 19,
   "metadata": {},
   "outputs": [
    {
     "data": {
      "text/plain": [
       "amc_model_mtl(\n",
       "  (convolutions): Sequential(\n",
       "    (0): Conv1d(2, 64, kernel_size=(3,), stride=(1,), padding=(1,))\n",
       "    (1): MaxPool1d(kernel_size=2, stride=2, padding=0, dilation=1, ceil_mode=False)\n",
       "    (2): ReLU()\n",
       "    (3): Conv1d(64, 64, kernel_size=(3,), stride=(1,), padding=(1,))\n",
       "    (4): MaxPool1d(kernel_size=2, stride=2, padding=0, dilation=1, ceil_mode=False)\n",
       "    (5): ReLU()\n",
       "    (6): Conv1d(64, 64, kernel_size=(3,), stride=(1,), padding=(1,))\n",
       "    (7): MaxPool1d(kernel_size=2, stride=2, padding=0, dilation=1, ceil_mode=False)\n",
       "    (8): ReLU()\n",
       "    (9): Conv1d(64, 64, kernel_size=(3,), stride=(1,), padding=(1,))\n",
       "    (10): MaxPool1d(kernel_size=2, stride=2, padding=0, dilation=1, ceil_mode=False)\n",
       "    (11): ReLU()\n",
       "    (12): Conv1d(64, 64, kernel_size=(3,), stride=(1,), padding=(1,))\n",
       "    (13): MaxPool1d(kernel_size=2, stride=2, padding=0, dilation=1, ceil_mode=False)\n",
       "    (14): ReLU()\n",
       "    (15): Conv1d(64, 64, kernel_size=(3,), stride=(1,), padding=(1,))\n",
       "    (16): MaxPool1d(kernel_size=2, stride=2, padding=0, dilation=1, ceil_mode=False)\n",
       "    (17): ReLU()\n",
       "    (18): Conv1d(64, 64, kernel_size=(3,), stride=(1,), padding=(1,))\n",
       "    (19): MaxPool1d(kernel_size=2, stride=2, padding=0, dilation=1, ceil_mode=False)\n",
       "    (20): ReLU()\n",
       "  )\n",
       "  (noise_estimator): Sequential(\n",
       "    (0): Linear(in_features=512, out_features=512, bias=True)\n",
       "    (1): ReLU()\n",
       "    (2): Linear(in_features=512, out_features=128, bias=True)\n",
       "    (3): ReLU()\n",
       "    (4): Linear(in_features=128, out_features=64, bias=True)\n",
       "    (5): Tanh()\n",
       "    (6): Linear(in_features=64, out_features=1, bias=True)\n",
       "  )\n",
       "  (fc1): Linear(in_features=512, out_features=128, bias=True)\n",
       "  (fc2): Linear(in_features=128, out_features=128, bias=True)\n",
       "  (fc3): Linear(in_features=128, out_features=5, bias=True)\n",
       ")"
      ]
     },
     "execution_count": 19,
     "metadata": {},
     "output_type": "execute_result"
    }
   ],
   "source": [
    "model_mtl = amc_model_mtl()\n",
    "model_mtl"
   ]
  },
  {
   "cell_type": "code",
   "execution_count": 20,
   "metadata": {},
   "outputs": [],
   "source": [
    "def train_model_mtl(model, optimizer, train_loader, val_loader, num_epochs=5, verbose=True):\n",
    "\n",
    "    losses, val_losses = [], []\n",
    "    losses_mod, val_losses_mod = [], []\n",
    "    losses_snr, val_losses_snr = [], []\n",
    "    \n",
    "    loss_class = nn.CrossEntropyLoss()#nn.MSELoss()\n",
    "    loss_snr = nn.MSELoss()\n",
    "\n",
    "    # Main training loop\n",
    "    for epoch in range(num_epochs):  # loop over the dataset multiple times\n",
    "\n",
    "        running_loss = 0\n",
    "\n",
    "        best_loss = np.inf\n",
    "\n",
    "        # Loop over entire training loader\n",
    "        for x_train, y_train, z_train in train_loader:\n",
    "\n",
    "            # zero the parameter gradients\n",
    "            optimizer.zero_grad()\n",
    "\n",
    "            # forward + backward + optimize\n",
    "            y_hat, n_estim = model(x_train)\n",
    "            loss_1 = loss_class(y_hat, y_train)\n",
    "            loss_2 = loss_snr(n_estim, z_train)\n",
    "            \n",
    "            loss = loss_1 + loss_2\n",
    "            \n",
    "            loss.backward()\n",
    "            optimizer.step()\n",
    "            \n",
    "            losses_mod.append(loss_1.item())\n",
    "            losses_snr.append(loss_2.item())\n",
    "\n",
    "            # Add to running loss, average later\n",
    "            running_loss = running_loss + loss.item()\n",
    "\n",
    "        # Append average loss for this epoch to losses list\n",
    "        losses.append(running_loss/len(train_loader))\n",
    "\n",
    "        # Evaluate validation loss\n",
    "\n",
    "        with torch.no_grad():\n",
    "\n",
    "            running_val_loss = 0\n",
    "\n",
    "            for x_val, y_val, z_val in val_loader:\n",
    "\n",
    "                # evaluate validation loss\n",
    "                val_outputs, val_snr = model(x_val)\n",
    "                val_loss1 = loss_class(val_outputs, y_val)\n",
    "                \n",
    "                val_loss2 = loss_snr(val_snr, z_val)\n",
    "\n",
    "                running_val_loss = running_val_loss + val_loss1.item()\n",
    "                \n",
    "                val_losses_mod.append(val_loss1.item())\n",
    "                val_losses_snr.append(val_loss2.item())\n",
    "\n",
    "            val_losses.append(running_val_loss/len(val_loader))\n",
    "\n",
    "        if val_losses[-1] < best_loss:\n",
    "            saved_model = model.state_dict()\n",
    "            best_loss = val_losses[-1]\n",
    "            \n",
    "        if verbose:\n",
    "            print('Epoch {}: {}'.format(epoch,losses[-1]))\n",
    "\n",
    "    # Load best model\n",
    "    model.load_state_dict(saved_model)\n",
    "    \n",
    "    return model, losses, val_losses, losses_mod, losses_snr, val_losses_mod, val_losses_snr"
   ]
  },
  {
   "cell_type": "code",
   "execution_count": 21,
   "metadata": {},
   "outputs": [
    {
     "name": "stdout",
     "output_type": "stream",
     "text": [
      "Epoch 0: 0.6053503513124517\n",
      "Epoch 1: 0.17813650345302778\n",
      "Epoch 2: 0.14377786504443396\n",
      "Epoch 3: 0.12252010815956799\n",
      "Epoch 4: 0.10353474082393486\n",
      "Epoch 5: 0.05697903048554012\n",
      "Epoch 6: 0.0476208609161073\n",
      "Epoch 7: 0.03934422285356876\n",
      "Epoch 8: 0.04286948801375481\n",
      "Epoch 9: 0.029234013126485728\n",
      "Epoch 10: 0.030675458767390494\n",
      "Epoch 11: 0.028196995581277983\n",
      "Epoch 12: 0.020491383559221338\n",
      "Epoch 13: 0.025655197826497236\n",
      "Epoch 14: 0.025670263758498055\n"
     ]
    }
   ],
   "source": [
    "num_epochs = 15\n",
    "\n",
    "train_snr = np.arange(0,21,2)\n",
    "\n",
    "train_loader = gen_loader(num_frames=512, snr=train_snr, batch_size=32)\n",
    "val_loader = gen_loader(num_frames=128, snr=train_snr, batch_size=32)\n",
    "\n",
    "model_mtl = amc_model_mtl()\n",
    "model_mtl.cuda()\n",
    "\n",
    "optimizer = torch.optim.Adam(model_mtl.parameters(), lr=0.001, weight_decay=0.0001)\n",
    "\n",
    "model_mtl, losses, val_losses, losses_mod, losses_snr, val_losses_mod, val_losses_snr = train_model_mtl(model_mtl, optimizer, train_loader, val_loader, num_epochs=num_epochs, verbose=True)"
   ]
  },
  {
   "cell_type": "code",
   "execution_count": 22,
   "metadata": {},
   "outputs": [],
   "source": [
    "def test_model_mtl(model, snr_range, num_frames=128, samples_per_frame=1024):\n",
    "    accs = []\n",
    "    snr_errs = []\n",
    "\n",
    "    model.eval().cpu()\n",
    "\n",
    "    with torch.no_grad():\n",
    "        for snr in snr_range:\n",
    "\n",
    "            bpsk_data = gen_tensor_data('BPSK', num_frames=512, samples_per_frame=samples_per_frame, snr=snr)\n",
    "            qpsk_data = gen_tensor_data('QPSK', num_frames=512, samples_per_frame=samples_per_frame, snr=snr)\n",
    "            psk_data = gen_tensor_data('8-PSK', num_frames=512, samples_per_frame=samples_per_frame, snr=snr)\n",
    "            qam_data = gen_tensor_data('16-QAM', num_frames=512, samples_per_frame=samples_per_frame, snr=snr)\n",
    "            ask_data = gen_tensor_data('4-ASK', num_frames=512, samples_per_frame=samples_per_frame, snr=snr)\n",
    "\n",
    "            test_data = torch.cat((bpsk_data, qpsk_data, psk_data, qam_data, ask_data))\n",
    "\n",
    "            bpsk_labels = torch.zeros(bpsk_data.shape[0])\n",
    "            qpsk_labels = torch.ones(qpsk_data.shape[0])\n",
    "            psk_labels = torch.ones(qam_data.shape[0])*2\n",
    "            qam_labels = torch.ones(qam_data.shape[0])*3\n",
    "            ask_labels = torch.ones(ask_data.shape[0])*4\n",
    "\n",
    "            test_labels = torch.cat((bpsk_labels, qpsk_labels, psk_labels, qam_labels, ask_labels))\n",
    "\n",
    "            y_hat, snr_hat = model(test_data)\n",
    "            \n",
    "            results = torch.argmax(y_hat,axis=1)\n",
    "            \n",
    "            snr_errs.append(F.mse_loss(snr_hat, 1/10**(torch.ones_like(snr_hat)*snr/10)))\n",
    "            \n",
    "            accs.append(torch.sum(results == test_labels).float() / test_data.shape[0])\n",
    "            \n",
    "    return accs, snr_errs"
   ]
  },
  {
   "cell_type": "code",
   "execution_count": 23,
   "metadata": {},
   "outputs": [],
   "source": [
    "accs_mtl = test_model_mtl(model_mtl, snr_range)"
   ]
  },
  {
   "cell_type": "code",
   "execution_count": 24,
   "metadata": {},
   "outputs": [
    {
     "data": {
      "image/png": "[encoded data removed]",
      "text/plain": [
       "<Figure size 432x288 with 1 Axes>"
      ]
     },
     "metadata": {
      "needs_background": "light"
     },
     "output_type": "display_data"
    }
   ],
   "source": [
    "plt.plot(snr_range, accs_w2)\n",
    "plt.plot(snr_range, accs)\n",
    "plt.plot(snr_range, accs_mtl[0])\n",
    "plt.grid()\n",
    "plt.title('Accuracy Comparison')\n",
    "plt.xlabel('SNR'); plt.ylabel('Accuracy')\n",
    "plt.legend(('Neural Network 1 (DL)', 'Neural Network 2 (DL)', 'MTL'))\n",
    "plt.show()"
   ]
  }
 ],
 "metadata": {
  "kernelspec": {
   "display_name": "Python 3",
   "language": "python",
   "name": "python3"
  },
  "language_info": {
   "codemirror_mode": {
    "name": "ipython",
    "version": 3
   },
   "file_extension": ".py",
   "mimetype": "text/x-python",
   "name": "python",
   "nbconvert_exporter": "python",
   "pygments_lexer": "ipython3",
   "version": "3.8.8"
  }
 },
 "nbformat": 4,
 "nbformat_minor": 4
}

{
 "cells": [
  {
   "cell_type": "code",
   "execution_count": 1,
   "id": "35a1b731-b850-4b3c-ac62-2d46becc1afe",
   "metadata": {},
   "outputs": [],
   "source": [
    "import numpy as np\n",
    "import matplotlib.pyplot as plt\n",
    "\n",
    "import torch\n",
    "\n",
    "import torch.nn as nn\n",
    "from torch import optim\n",
    "import torch.nn.functional as F\n",
    "\n",
    "from ml_helpers import *"
   ]
  },
  {
   "cell_type": "code",
   "execution_count": 2,
   "id": "ab8f960e-454b-4a6e-9e93-f7e721a531e2",
   "metadata": {},
   "outputs": [],
   "source": [
    "def awgn(signal, SNR, measured=False, return_true_snr=False):\n",
    "    \n",
    "    if measured:\n",
    "        # Measure signal power \n",
    "        s_p = np.mean(abs(signal)**2)\n",
    "    else:\n",
    "        s_p = 1\n",
    "    \n",
    "    # Calculate noise power\n",
    "    n_p = s_p/(10 **(SNR/10))\n",
    "    \n",
    "    # Generate complex noise\n",
    "    noise = np.sqrt(n_p/2)*(np.random.randn(*signal.shape) + \\\n",
    "                                np.random.randn(*signal.shape)*1j)\n",
    "    \n",
    "    # Add signal and noise \n",
    "    signal_noisy = signal + noise \n",
    "    \n",
    "    if not return_true_snr:\n",
    "        return signal_noisy\n",
    "    else:\n",
    "        return signal_noisy, s_p/(np.mean(abs(noise)**2))\n",
    "    \n",
    "def pulse_shape(symbols, sps=5):\n",
    "    num_weights = 251\n",
    "    x = np.arange(-int(num_weights/2),int(num_weights/2)+1,1)/sps\n",
    "    sinc_weights = np.sinc(x)\n",
    "    \n",
    "    padded_symbols = np.zeros(len(symbols)*sps, dtype=complex)\n",
    "    padded_symbols[np.arange(0,len(padded_symbols),sps)] = symbols\n",
    "    \n",
    "    return np.convolve(padded_symbols, sinc_weights, mode='same')"
   ]
  },
  {
   "cell_type": "code",
   "execution_count": 3,
   "id": "44be40c4-8c48-40c4-a74b-444da1cbf1cc",
   "metadata": {},
   "outputs": [],
   "source": [
    "# Function to generate BPSK\n",
    "def generate_bpsk(num_symbols, noise=50):\n",
    "    bits = np.random.randint(0,2,num_symbols)\n",
    "    bpsk_scheme = [1+0j, -1+0j]\n",
    "    bpsk_symbols = np.array([bpsk_scheme[i] for i in bits])\n",
    "    \n",
    "    bpsk_symbols = awgn(bpsk_symbols, noise)\n",
    "    \n",
    "    return bpsk_symbols\n",
    "\n",
    "# Function to generate QPSK\n",
    "def generate_qpsk(num_symbols, noise=50):\n",
    "    qpsk_scheme= [1+1j, 1-1j, -1+1j, -1-1j]\n",
    "    ints = np.random.randint(0,4,num_symbols)\n",
    "    qpsk_symbols = np.array([qpsk_scheme[i] for i in ints])/np.sqrt(2)\n",
    "    \n",
    "    return qpsk_symbols\n",
    "\n",
    "# Function to generate QAM\n",
    "def generate_qam(num_symbols, noise=50):\n",
    "    qam_scheme = [-3-3j, -3-1j, -3+3j, -3+1j,  \\\n",
    "                  -1-3j, -1-1j, -1+3j, -1+1j,  \\\n",
    "                   3-3j,  3-1j,  3+3j,  3+1j,  \\\n",
    "                   1-3j,  1-1j,  1+3j,  1+1j]\n",
    "    ints = np.random.randint(0,16,num_symbols)\n",
    "    qam_symbols = np.array([qam_scheme[i] for i in ints])\n",
    "    qam_symbols = qam_symbols/np.mean(np.abs(qam_scheme))\n",
    "    \n",
    "    return qam_symbols\n",
    "\n",
    "# Function to generate 4-ASK\n",
    "def generate_ask4(num_symbols, noise=50):\n",
    "    ask4_scheme = [3+0j, 1+0j, -1+0j, -3+0j]\n",
    "    ints = np.random.randint(0,4,num_symbols)\n",
    "    ask4_symbols = np.array([ask4_scheme[i] for i in ints])\n",
    "    ask4_symbols = ask4_symbols/np.mean(np.abs(ask4_scheme))\n",
    "    \n",
    "    return ask4_symbols\n",
    "\n",
    "# Function to generate 8-PSK\n",
    "def generate_psk8(num_symbols, noise=50):\n",
    "    psk8_scheme = [ 1+0j, 0.7071+0.7071j, 0+1j, -0.7071+0.7071j, \\\n",
    "                   -1+0j, -0.7071-0.7071j, 0-1j, 0.7071-0.7071j]\n",
    "    \n",
    "    ints = np.random.randint(0,8,num_symbols)\n",
    "    psk8_symbols = np.array([psk8_scheme[i] for i in ints])\n",
    "    psk8_symbols = psk8_symbols/np.mean(np.abs(psk8_scheme))\n",
    "    \n",
    "    return psk8_symbols"
   ]
  },
  {
   "cell_type": "code",
   "execution_count": 4,
   "id": "4351890f-682e-45ea-96ec-640ea1e6f75f",
   "metadata": {},
   "outputs": [],
   "source": [
    "def gen_tensor_data(mod_scheme, num_frames=32, samples_per_frame=128, sps=5, snr=30):\n",
    "            \n",
    "    symbols_required = int(np.ceil(samples_per_frame/sps))*num_frames\n",
    "        \n",
    "    # Mod scheme has to be one of: 'BPSK', 'QPSK', '16-QAM'\n",
    "    if mod_scheme == 'BPSK':\n",
    "        symbols = pulse_shape(generate_bpsk(symbols_required), sps=sps)[:num_frames*samples_per_frame]\n",
    "    elif mod_scheme == 'QPSK':\n",
    "        symbols = pulse_shape(generate_qpsk(symbols_required), sps=sps)[:num_frames*samples_per_frame]\n",
    "    elif mod_scheme == '8-PSK':\n",
    "        symbols = pulse_shape(generate_psk8(symbols_required), sps=sps)[:num_frames*samples_per_frame]\n",
    "    elif mod_scheme == '16-QAM':\n",
    "        symbols = pulse_shape(generate_qam(symbols_required), sps=sps)[:num_frames*samples_per_frame]\n",
    "    elif mod_scheme == '4-ASK':\n",
    "        symbols = pulse_shape(generate_ask4(symbols_required), sps=sps)[:num_frames*samples_per_frame]\n",
    "\n",
    "    # Add noise and split into frames\n",
    "    frames, sn = awgn(symbols.reshape(num_frames,-1), snr, measured=True, return_true_snr=True)\n",
    "\n",
    "    # Normalize to unit energy per frame\n",
    "    for i, frame in enumerate(frames):\n",
    "        power = np.mean((np.abs(frame)))\n",
    "        frames[i] = frame / power\n",
    "\n",
    "    # Split into I/Q, add extra channel to make a 4-D tensor\n",
    "    return torch.FloatTensor(np.stack((frames.real, frames.imag),axis=1)), sn"
   ]
  },
  {
   "cell_type": "code",
   "execution_count": 5,
   "id": "0cd18169-5fb7-4c4a-8337-9aacb5215871",
   "metadata": {},
   "outputs": [],
   "source": [
    "def gen_data_from_list(mod_scheme, snr_range, num_frames=32, samples_per_frame=128, return_db=False):\n",
    "    \n",
    "    # total dataset size\n",
    "    frames = torch.zeros((num_frames*len(snr_range), 2, samples_per_frame), dtype=torch.float)\n",
    "    \n",
    "    # snrs dataset for multitask\n",
    "    snrs = torch.zeros(num_frames*len(snr_range), dtype=torch.float)\n",
    "    \n",
    "    for i, snr in enumerate(snr_range):\n",
    "        frames[i*num_frames:(i+1)*num_frames], sn = gen_tensor_data(mod_scheme, num_frames=num_frames, samples_per_frame=samples_per_frame, snr=snr)\n",
    "        if return_db:\n",
    "            snrs[i*num_frames:(i+1)*num_frames] = snr\n",
    "        else:\n",
    "            snrs[i*num_frames:(i+1)*num_frames] = sn\n",
    "    \n",
    "    return frames, snrs"
   ]
  },
  {
   "cell_type": "code",
   "execution_count": 6,
   "id": "c8d81253-c0a7-441d-8de1-b71a9dc4d48a",
   "metadata": {},
   "outputs": [],
   "source": [
    "# Function returns a torch dataloader with specified batch_size and num_frames\n",
    "# number of examples per snr level\n",
    "def gen_loader(num_frames=32, samples_per_frame=1024, snr=[30], batch_size=32, case=1, return_db=False):\n",
    "    \n",
    "    if case == 1 or case == 2:\n",
    "        return_db=True\n",
    "    \n",
    "    # Generate the individual waveforms for each modulation scheme\n",
    "    bpsk_data, bpsk_snrs = gen_data_from_list('BPSK', snr, num_frames=num_frames, samples_per_frame=samples_per_frame, return_db=return_db)\n",
    "    qpsk_data, qpsk_snrs = gen_data_from_list('QPSK', snr, num_frames=num_frames, samples_per_frame=samples_per_frame, return_db=return_db)\n",
    "    psk_data, psk_snrs = gen_data_from_list('8-PSK', snr, num_frames=num_frames, samples_per_frame=samples_per_frame, return_db=return_db)\n",
    "    qam_data, qam_snrs = gen_data_from_list('16-QAM', snr, num_frames=num_frames, samples_per_frame=samples_per_frame, return_db=return_db)\n",
    "    ask_data, ask_snrs = gen_data_from_list('4-ASK', snr, num_frames=num_frames, samples_per_frame=samples_per_frame, return_db=return_db)\n",
    "    \n",
    "    # Concat them into a single training data tensor\n",
    "    train_data = torch.cat((bpsk_data, qpsk_data, psk_data, qam_data, ask_data))\n",
    "    \n",
    "    # Create class labels\n",
    "    bpsk_labels = torch.zeros(bpsk_data.shape[0])\n",
    "    qpsk_labels = torch.ones(qpsk_data.shape[0])\n",
    "    psk_labels = torch.ones(psk_data.shape[0])*2\n",
    "    qam_labels = torch.ones(qam_data.shape[0])*3\n",
    "    ask_labels = torch.ones(ask_data.shape[0])*4\n",
    "\n",
    "    # Concat class labels\n",
    "    # We will be using cross entropy loss, which expects a long tensor as the label hence the .long() here\n",
    "    train_labels = torch.cat((bpsk_labels, qpsk_labels, psk_labels, qam_labels, ask_labels)).long()\n",
    "    \n",
    "    # SNR labels\n",
    "    snr_labels = torch.cat((bpsk_snrs, qpsk_snrs, psk_snrs, qam_snrs, ask_snrs))\n",
    "    \n",
    "    if case == 0 or case == 1: \n",
    "#         snr_labels[snr_labels > 10] = 10\n",
    "        train_labels_snr = snr_labels # case 0 returns linear snrs, case 1 returns dBs\n",
    "    elif case == 2:\n",
    "        snr_db_labels = snr_labels.numpy().astype(int)\n",
    "        train_snr_range = np.arange(-15,16,2, dtype=int)\n",
    "        snr_indexes = {index:value for index, value in zip(train_snr_range, np.arange(len(train_snr_range)))}\n",
    "        train_labels_snr = torch.tensor(list(map(lambda label: snr_indexes[label], snr_db_labels)), dtype=int)\n",
    "    \n",
    "    # if gpu\n",
    "    train_data = train_data.cuda()\n",
    "    train_labels = train_labels.cuda()\n",
    "    train_labels_snr = train_labels_snr.cuda()\n",
    "    \n",
    "    # Create a Torch dataset\n",
    "    train_dataset = torch.utils.data.TensorDataset(train_data, train_labels, train_labels_snr)\n",
    "    \n",
    "    return torch.utils.data.DataLoader(train_dataset, batch_size=batch_size, shuffle=True)"
   ]
  },
  {
   "cell_type": "code",
   "execution_count": 7,
   "id": "7a070193-6ac6-487a-9215-3025bbf04a63",
   "metadata": {},
   "outputs": [],
   "source": [
    "train_snr_range = np.arange(-15,16,2)"
   ]
  },
  {
   "cell_type": "code",
   "execution_count": 8,
   "id": "f2ef8738-a9a0-4197-ba95-96517d20be59",
   "metadata": {},
   "outputs": [],
   "source": [
    "loader = gen_loader(snr=train_snr_range, case=2)"
   ]
  },
  {
   "cell_type": "code",
   "execution_count": 9,
   "id": "c382f51f-c1ea-4f68-8770-e2813a58c915",
   "metadata": {},
   "outputs": [],
   "source": [
    "x,y,z = next(iter(loader))"
   ]
  },
  {
   "cell_type": "code",
   "execution_count": 10,
   "id": "372d6365-7220-4e1c-a956-13875cb75467",
   "metadata": {},
   "outputs": [
    {
     "data": {
      "text/plain": [
       "array([-15, -13, -11,  -9,  -7,  -5,  -3,  -1,   1,   3,   5,   7,   9,\n",
       "        11,  13,  15])"
      ]
     },
     "execution_count": 10,
     "metadata": {},
     "output_type": "execute_result"
    }
   ],
   "source": [
    "train_snr_range"
   ]
  },
  {
   "cell_type": "code",
   "execution_count": 11,
   "id": "60319ff6-91ed-4e70-9b53-8c59c5b5364a",
   "metadata": {},
   "outputs": [
    {
     "data": {
      "text/plain": [
       "tensor([10,  1,  8, 15, 12,  8,  8, 11, 15,  2,  0, 14,  4, 13, 14,  4,  7,  6,\n",
       "         0,  6, 12,  8, 10, 12, 13,  2, 15, 14, 15,  4,  3,  9],\n",
       "       device='cuda:0')"
      ]
     },
     "execution_count": 11,
     "metadata": {},
     "output_type": "execute_result"
    }
   ],
   "source": [
    "z"
   ]
  },
  {
   "cell_type": "code",
   "execution_count": 12,
   "id": "9cde630d-198e-4f79-adb6-78bcb5ea2a3d",
   "metadata": {},
   "outputs": [
    {
     "data": {
      "text/plain": [
       "array([  5, -13,   1,  15,   9,   1,   1,   7,  15, -11, -15,  13,  -7,\n",
       "        11,  13,  -7,  -1,  -3, -15,  -3,   9,   1,   5,   9,  11, -11,\n",
       "        15,  13,  15,  -7,  -9,   3])"
      ]
     },
     "execution_count": 12,
     "metadata": {},
     "output_type": "execute_result"
    }
   ],
   "source": [
    "train_snr_range[z.cpu().detach().numpy()]"
   ]
  },
  {
   "attachments": {},
   "cell_type": "markdown",
   "id": "6185433f-2965-4971-acdf-59777cc7e03d",
   "metadata": {},
   "source": [
    "## Baseline m2m4"
   ]
  },
  {
   "cell_type": "code",
   "execution_count": 14,
   "id": "7e35ecc0-1531-47e8-8087-abf2c574b536",
   "metadata": {},
   "outputs": [],
   "source": [
    "snr_estims = []\n",
    "sns = []\n",
    "\n",
    "snr_range = np.arange(-10,11)\n",
    "\n",
    "for snr in snr_range:\n",
    "    x, sn = gen_tensor_data('QPSK', num_frames=2, samples_per_frame=1024, sps=1, snr=snr)\n",
    "    x = x[0].numpy()\n",
    "    x_c = x[0] + x[1]*1j\n",
    "\n",
    "    m2 = (np.sum(np.abs(x_c**2)))/len(x_c)\n",
    "    m4 = (np.sum(np.abs(x_c**4)))/len(x_c)\n",
    "\n",
    "    snr_estim = np.sqrt(np.abs(2*(m2**2)-m4))/(m2 - np.sqrt(np.abs(2*(m2**2)-m4)))\n",
    "    \n",
    "    snr_estims.append(snr_estim)\n",
    "    sns.append(sn)"
   ]
  },
  {
   "cell_type": "code",
   "execution_count": 15,
   "id": "eeed2ec6-ff4a-41d7-a8cf-b022984a35c4",
   "metadata": {},
   "outputs": [
    {
     "data": {
      "text/plain": [
       "[<matplotlib.lines.Line2D at 0x7f991e58a160>]"
      ]
     },
     "execution_count": 15,
     "metadata": {},
     "output_type": "execute_result"
    },
    {
     "data": {
      "image/png": "[encoded data removed]",
      "text/plain": [
       "<Figure size 432x288 with 1 Axes>"
      ]
     },
     "metadata": {
      "needs_background": "light"
     },
     "output_type": "display_data"
    }
   ],
   "source": [
    "plt.plot(np.array(snr_estims))\n",
    "plt.plot(np.array(sns))"
   ]
  },
  {
   "cell_type": "code",
   "execution_count": 19,
   "id": "a61c40c9-1a6e-49a7-824d-99f23b03f024",
   "metadata": {},
   "outputs": [],
   "source": [
    "estims, sns_list = [], []\n",
    "mods = ['BPSK', 'QPSK', '8-PSK', '16-QAM']\n",
    "snr_range = np.arange(-15,16)\n",
    "num_iter = 500\n",
    "\n",
    "for snr in snr_range:\n",
    "    k_estim, k_db, sns = 0, 0, 0\n",
    "    for _ in range(num_iter):\n",
    "        x, sn = gen_tensor_data(mods[np.random.randint(low=0, high=4)], num_frames=2, samples_per_frame=1024, sps=1, snr=snr)\n",
    "#         x, sn = gen_tensor_data('QPSK', num_frames=2, samples_per_frame=1024, sps=1, snr=snr)\n",
    "        x = x[0].numpy()\n",
    "        x_c = x[0] + x[1]*1j\n",
    "#         m2 = np.abs(np.mean(x_c*np.conj(x_c)))\n",
    "#         m4 = np.abs(np.mean((x_c*np.conj(x_c))**2))\n",
    "        m2 = (np.sum(np.abs(x_c**2)))/len(x_c)\n",
    "        m4 = (np.sum(np.abs(x_c**4)))/len(x_c)\n",
    "#         beta = m4 / (m2 - m4)\n",
    "#         k_estim = beta - 1 + np.sqrt(beta*(beta-1))\n",
    "        k_estim += np.sqrt(np.abs(2*(m2**2)-m4))/(m2 - np.sqrt(np.abs(2*(m2**2)-m4)))\n",
    "        sns += sn\n",
    "    estims.append(k_estim/num_iter)\n",
    "    sns_list.append(sns/num_iter)\n",
    "estims = np.array(estims)\n",
    "sns_list = np.array(sns_list)"
   ]
  },
  {
   "cell_type": "code",
   "execution_count": 20,
   "id": "3294765b-b584-41ec-810d-15f996e4cfe6",
   "metadata": {},
   "outputs": [
    {
     "data": {
      "text/plain": [
       "array([-15, -14, -13, -12, -11, -10,  -9,  -8,  -7,  -6,  -5,  -4,  -3,\n",
       "        -2,  -1,   0,   1,   2,   3,   4,   5,   6,   7,   8,   9,  10,\n",
       "        11,  12,  13,  14,  15])"
      ]
     },
     "execution_count": 20,
     "metadata": {},
     "output_type": "execute_result"
    }
   ],
   "source": [
    "snr_range"
   ]
  },
  {
   "cell_type": "code",
   "execution_count": 21,
   "id": "1f324738-a9b5-447e-8ee7-b308d291ef6b",
   "metadata": {},
   "outputs": [
    {
     "data": {
      "image/png": "[encoded data removed]",
      "text/plain": [
       "<Figure size 432x288 with 1 Axes>"
      ]
     },
     "metadata": {
      "needs_background": "light"
     },
     "output_type": "display_data"
    }
   ],
   "source": [
    "plt.plot(snr_range, estims)\n",
    "plt.plot(snr_range, sns_list)\n",
    "# plt.plot(snr_range, 10**(snr_range/10))\n",
    "# plt.plot(snr_range, 1/(1/(10**(snr_range/10))))\n",
    "# plt.ylim([0,1])\n",
    "plt.grid()"
   ]
  },
  {
   "cell_type": "code",
   "execution_count": 22,
   "id": "cf45918b-45ca-44e1-9d6a-e9f2ff970cd8",
   "metadata": {},
   "outputs": [
    {
     "data": {
      "image/png": "[encoded data removed]",
      "text/plain": [
       "<Figure size 432x288 with 1 Axes>"
      ]
     },
     "metadata": {
      "needs_background": "light"
     },
     "output_type": "display_data"
    }
   ],
   "source": [
    "plt.plot(snr_range, 10*np.log10(estims))\n",
    "plt.plot(snr_range, snr_range)\n",
    "plt.grid()"
   ]
  },
  {
   "cell_type": "code",
   "execution_count": 23,
   "id": "bfa879f7-2a4f-4d23-a19b-d162b754ab79",
   "metadata": {},
   "outputs": [],
   "source": [
    "m2m4_baseline = {'snr_range': snr_range,\n",
    "                 'snr_estims': estims}"
   ]
  },
  {
   "cell_type": "code",
   "execution_count": 25,
   "id": "1c90645e-143b-4002-b312-907c426e672b",
   "metadata": {},
   "outputs": [],
   "source": [
    "torch.save(m2m4_baseline, 'baselines/m2m4_snr_estimation.pt')\n",
    "# torch.load('baselines/m2m4_snr_estimation.pt')"
   ]
  },
  {
   "cell_type": "code",
   "execution_count": 26,
   "id": "72c2913d-4b51-4409-b886-1a4a1aa602af",
   "metadata": {},
   "outputs": [],
   "source": [
    "class snr_estimator(nn.Module):\n",
    "    def __init__(self, num_outputs=1, relu_output=True):\n",
    "        super(snr_estimator, self).__init__()\n",
    "        \n",
    "        self.convolutions = nn.Sequential(\n",
    "                    nn.Conv1d(2, 64, 3, padding=1),\n",
    "                    nn.MaxPool1d(2),\n",
    "                    nn.ReLU(),\n",
    "                    nn.Conv1d(64, 64, 3, padding=1),\n",
    "                    nn.MaxPool1d(2),\n",
    "                    nn.ReLU(),\n",
    "                    nn.Conv1d(64, 64, 3, padding=1),\n",
    "                    nn.MaxPool1d(2),\n",
    "                    nn.ReLU()\n",
    "                    )\n",
    "        \n",
    "        if relu_output:\n",
    "            self.noise_estimator = nn.Sequential(\n",
    "                                        nn.Linear(8192,512),\n",
    "                                        nn.ReLU(),\n",
    "                                        nn.Linear(512,64),\n",
    "                                        nn.ReLU(),\n",
    "                                        nn.Linear(64,num_outputs),\n",
    "                                        nn.ReLU())\n",
    "        else:\n",
    "            self.noise_estimator = nn.Sequential(\n",
    "                                        nn.Linear(8192,512),\n",
    "                                        nn.ReLU(),\n",
    "                                        nn.Linear(512,64),\n",
    "                                        nn.ReLU(),\n",
    "                                        nn.Linear(64,num_outputs))\n",
    "        \n",
    "    def forward(self, x):\n",
    "        \n",
    "        x = self.convolutions(x)\n",
    "        \n",
    "        x = torch.flatten(x,1)\n",
    "        \n",
    "        x = self.noise_estimator(x).squeeze()\n",
    "        \n",
    "        return x"
   ]
  },
  {
   "cell_type": "code",
   "execution_count": 27,
   "id": "6fbb8015-c67d-42fc-bb82-407d49bf529d",
   "metadata": {},
   "outputs": [],
   "source": [
    "def train(model, optimizer, train_loader, val_loader, loss_fn, num_epochs=5, verbose=False):\n",
    "    losses, val_losses = [], []\n",
    "    best_loss = np.inf\n",
    "    \n",
    "    for epoch in range(num_epochs):\n",
    "        running_loss = 0\n",
    "        \n",
    "        for x,y,z in train_loader:\n",
    "            optimizer.zero_grad()\n",
    "            \n",
    "            z_hat = model(x)\n",
    "            \n",
    "            loss = loss_fn(z_hat,z)\n",
    "            loss.backward()\n",
    "            optimizer.step()\n",
    "            \n",
    "            running_loss += loss.item()\n",
    "        losses.append(running_loss/len(train_loader))\n",
    "        \n",
    "        with torch.no_grad():\n",
    "            running_val_loss = 0\n",
    "            for x,y,z in val_loader:\n",
    "                z_hat = model(x)\n",
    "                \n",
    "                val_loss = loss_fn(z_hat, z)\n",
    "                running_val_loss += val_loss.item()\n",
    "            val_losses.append(running_val_loss/len(val_loader))\n",
    "        \n",
    "        if val_losses[-1] < best_loss:\n",
    "            print(f'val_losses[-1] = {val_losses[-1]}, best_loss = {best_loss}, model saved at {epoch}')\n",
    "            saved_model = model.state_dict()\n",
    "            best_loss = val_losses[-1]\n",
    "            \n",
    "        \n",
    "        if verbose:\n",
    "            print(f\"Loss: {losses[-1]}, Val loss: {val_losses[-1]}\")\n",
    "            \n",
    "    model.load_state_dict(saved_model)\n",
    "    \n",
    "    return model, losses, val_losses"
   ]
  },
  {
   "attachments": {},
   "cell_type": "markdown",
   "id": "b475d323-a193-4074-947c-6a54d66f8bb0",
   "metadata": {},
   "source": [
    "## Cross-entropy learning"
   ]
  },
  {
   "cell_type": "code",
   "execution_count": 28,
   "id": "1bcee6e9-c26b-4bb1-b89b-48195bfefe90",
   "metadata": {},
   "outputs": [],
   "source": [
    "model = snr_estimator(num_outputs=16, relu_output=False)\n",
    "model.cuda()\n",
    "optimizer = torch.optim.Adam(model.parameters(), lr=0.001, weight_decay=0.001)\n",
    "\n",
    "train_snr_range = np.arange(-15,16,2)\n",
    "\n",
    "train_loader = gen_loader(num_frames=128, snr=train_snr_range, batch_size=32, case=2)\n",
    "val_loader = gen_loader(num_frames=32, snr=train_snr_range, batch_size=32, case=2)\n",
    "\n",
    "num_epochs = 30\n",
    "loss_fn = nn.CrossEntropyLoss()"
   ]
  },
  {
   "cell_type": "code",
   "execution_count": 29,
   "id": "3d083aef-b4b0-4f77-83ae-e4882cedaa45",
   "metadata": {},
   "outputs": [
    {
     "name": "stdout",
     "output_type": "stream",
     "text": [
      "val_losses[-1] = 0.9102186754345893, best_loss = inf, model saved at 0\n",
      "val_losses[-1] = 0.6204130370169878, best_loss = 0.9102186754345893, model saved at 1\n",
      "val_losses[-1] = 0.3914478629827499, best_loss = 0.6204130370169878, model saved at 3\n",
      "val_losses[-1] = 0.38952853828668593, best_loss = 0.3914478629827499, model saved at 7\n",
      "val_losses[-1] = 0.32672252859920264, best_loss = 0.38952853828668593, model saved at 8\n",
      "val_losses[-1] = 0.305023302603513, best_loss = 0.32672252859920264, model saved at 17\n",
      "val_losses[-1] = 0.28475901996716857, best_loss = 0.305023302603513, model saved at 24\n"
     ]
    }
   ],
   "source": [
    "model, losses, val_losses = train(model, optimizer, train_loader, val_loader, loss_fn, num_epochs=num_epochs)"
   ]
  },
  {
   "cell_type": "code",
   "execution_count": 30,
   "id": "8b36f257-77d0-453f-8018-de04807eaca9",
   "metadata": {},
   "outputs": [
    {
     "data": {
      "text/plain": [
       "[<matplotlib.lines.Line2D at 0x7f991e34f460>]"
      ]
     },
     "execution_count": 30,
     "metadata": {},
     "output_type": "execute_result"
    },
    {
     "data": {
      "image/png": "[encoded data removed]",
      "text/plain": [
       "<Figure size 432x288 with 1 Axes>"
      ]
     },
     "metadata": {
      "needs_background": "light"
     },
     "output_type": "display_data"
    }
   ],
   "source": [
    "plt.plot(losses)\n",
    "plt.plot(val_losses)\n",
    "# plt.ylim([0,2])"
   ]
  },
  {
   "cell_type": "code",
   "execution_count": 31,
   "id": "65f81b76-c333-41d2-aa40-1a7b046670cc",
   "metadata": {},
   "outputs": [
    {
     "data": {
      "text/plain": [
       "tensor([10, 10, 10, 10, 10, 10, 10,  9, 10, 10, 10, 10, 10, 10, 10, 10, 10, 10,\n",
       "        10, 10, 10, 10, 10, 10, 10, 10, 10, 10, 10, 10, 10, 10])"
      ]
     },
     "execution_count": 31,
     "metadata": {},
     "output_type": "execute_result"
    }
   ],
   "source": [
    "val_loader = gen_loader(num_frames=32, snr=[5], batch_size=32, case=2)\n",
    "\n",
    "x,y,z = next(iter(val_loader))\n",
    "\n",
    "y_hat = model(x).cpu().detach()\n",
    "y_hat.argmax(axis=1)"
   ]
  },
  {
   "cell_type": "code",
   "execution_count": 32,
   "id": "7302b0ac-3135-4dda-8c8c-7af9ce453772",
   "metadata": {},
   "outputs": [
    {
     "data": {
      "text/plain": [
       "[<matplotlib.lines.Line2D at 0x7f991e303b20>]"
      ]
     },
     "execution_count": 32,
     "metadata": {},
     "output_type": "execute_result"
    },
    {
     "data": {
      "image/png": "[encoded data removed]",
      "text/plain": [
       "<Figure size 432x288 with 1 Axes>"
      ]
     },
     "metadata": {
      "needs_background": "light"
     },
     "output_type": "display_data"
    }
   ],
   "source": [
    "x,y,z = next(iter(val_loader))\n",
    "\n",
    "y_hat = model(x).cpu().detach()\n",
    "plt.plot(y_hat.argmax(axis=1))\n",
    "plt.plot(z.cpu().detach())"
   ]
  },
  {
   "cell_type": "code",
   "execution_count": 33,
   "id": "606c97d6-b3a2-4b17-b2bc-0e0104fd9ed8",
   "metadata": {},
   "outputs": [
    {
     "data": {
      "text/plain": [
       "[<matplotlib.lines.Line2D at 0x7f991e263340>]"
      ]
     },
     "execution_count": 33,
     "metadata": {},
     "output_type": "execute_result"
    },
    {
     "data": {
      "image/png": "[encoded data removed]",
      "text/plain": [
       "<Figure size 432x288 with 1 Axes>"
      ]
     },
     "metadata": {
      "needs_background": "light"
     },
     "output_type": "display_data"
    }
   ],
   "source": [
    "snr_range = train_snr_range\n",
    "# snr_range = np.arange(-15,16,2)\n",
    "\n",
    "z_hats = np.zeros(len(snr_range),)\n",
    "for i, snr in enumerate(snr_range):\n",
    "    z_hat_db = 0\n",
    "    test_loader = gen_loader(num_frames=32, snr=[snr], batch_size=32, case=2)\n",
    "    for x,y,z in test_loader:\n",
    "        z_hat = model(x).argmax(axis=1)\n",
    "        z_hat_db += torch.tensor(train_snr_range[z_hat.cpu().detach()])#10*torch.log10(z_hat)\n",
    "    z_hats[i] = torch.sum(z_hat_db)/len(test_loader)/32\n",
    "    \n",
    "plt.plot(snr_range, z_hats)\n",
    "plt.plot(snr_range, snr_range)"
   ]
  },
  {
   "cell_type": "code",
   "execution_count": 34,
   "id": "82093d9a-3484-4465-b86f-14b90dba0051",
   "metadata": {},
   "outputs": [
    {
     "data": {
      "text/plain": [
       "[<matplotlib.lines.Line2D at 0x7f991e235ac0>]"
      ]
     },
     "execution_count": 34,
     "metadata": {},
     "output_type": "execute_result"
    },
    {
     "data": {
      "image/png": "[encoded data removed]",
      "text/plain": [
       "<Figure size 432x288 with 1 Axes>"
      ]
     },
     "metadata": {
      "needs_background": "light"
     },
     "output_type": "display_data"
    }
   ],
   "source": [
    "plt.plot(snr_range, 10**(z_hats/10))\n",
    "plt.plot(snr_range, 10**(snr_range/10))"
   ]
  },
  {
   "attachments": {},
   "cell_type": "markdown",
   "id": "678c5ebf-f34d-4fd5-b1aa-b3e697555edb",
   "metadata": {},
   "source": [
    "## MSE Learning, linear SNR"
   ]
  },
  {
   "cell_type": "code",
   "execution_count": 35,
   "id": "ea704330-f9a9-4b83-93cb-d34d69023284",
   "metadata": {},
   "outputs": [],
   "source": [
    "model = snr_estimator()\n",
    "model.cuda()\n",
    "optimizer = torch.optim.Adam(model.parameters(), lr=0.001, weight_decay=0.001)\n",
    "\n",
    "train_snr = np.arange(-15,16,2)\n",
    "\n",
    "train_loader = gen_loader(num_frames=64, snr=train_snr, batch_size=32, case=0)\n",
    "val_loader = gen_loader(num_frames=32, snr=train_snr, batch_size=32, case=0)\n",
    "\n",
    "num_epochs = 30\n",
    "loss_fn = nn.MSELoss()"
   ]
  },
  {
   "cell_type": "code",
   "execution_count": 36,
   "id": "44aa3459-9d62-4a61-8a23-5c6ddd539257",
   "metadata": {},
   "outputs": [
    {
     "name": "stdout",
     "output_type": "stream",
     "text": [
      "val_losses[-1] = 3.0701666668057443, best_loss = inf, model saved at 0\n",
      "val_losses[-1] = 1.8888573423027992, best_loss = 3.0701666668057443, model saved at 1\n",
      "val_losses[-1] = 1.657745274528861, best_loss = 1.8888573423027992, model saved at 4\n",
      "val_losses[-1] = 1.1014340145513415, best_loss = 1.657745274528861, model saved at 6\n",
      "val_losses[-1] = 0.9735167630016803, best_loss = 1.1014340145513415, model saved at 7\n",
      "val_losses[-1] = 0.6596763742156326, best_loss = 0.9735167630016803, model saved at 10\n",
      "val_losses[-1] = 0.6235711729153991, best_loss = 0.6596763742156326, model saved at 11\n",
      "val_losses[-1] = 0.5656566778197885, best_loss = 0.6235711729153991, model saved at 13\n",
      "val_losses[-1] = 0.5295192076358944, best_loss = 0.5656566778197885, model saved at 20\n",
      "val_losses[-1] = 0.5173534233123064, best_loss = 0.5295192076358944, model saved at 21\n",
      "val_losses[-1] = 0.5079363497439772, best_loss = 0.5173534233123064, model saved at 24\n",
      "val_losses[-1] = 0.4539529192727059, best_loss = 0.5079363497439772, model saved at 28\n"
     ]
    }
   ],
   "source": [
    "model, losses, val_losses = train(model, optimizer, train_loader, val_loader, loss_fn, num_epochs=num_epochs)"
   ]
  },
  {
   "cell_type": "code",
   "execution_count": 37,
   "id": "093c4ada-c544-4484-af93-e5be0788db62",
   "metadata": {},
   "outputs": [
    {
     "data": {
      "image/png": "[encoded data removed]",
      "text/plain": [
       "<Figure size 432x288 with 1 Axes>"
      ]
     },
     "metadata": {
      "needs_background": "light"
     },
     "output_type": "display_data"
    }
   ],
   "source": [
    "plt.plot(losses)\n",
    "plt.plot(val_losses)\n",
    "# plt.ylim([0.25,2])\n",
    "plt.grid()"
   ]
  },
  {
   "cell_type": "code",
   "execution_count": 38,
   "id": "0785d626-178f-430d-bb38-3ccac1bae977",
   "metadata": {},
   "outputs": [
    {
     "data": {
      "text/plain": [
       "[<matplotlib.lines.Line2D at 0x7f991c105280>]"
      ]
     },
     "execution_count": 38,
     "metadata": {},
     "output_type": "execute_result"
    },
    {
     "data": {
      "image/png": "[encoded data removed]",
      "text/plain": [
       "<Figure size 432x288 with 1 Axes>"
      ]
     },
     "metadata": {
      "needs_background": "light"
     },
     "output_type": "display_data"
    }
   ],
   "source": [
    "x,y,z = next(iter(val_loader))\n",
    "\n",
    "y_hat = model(x).cpu().detach()\n",
    "plt.plot(y_hat/torch.max(y_hat))\n",
    "plt.plot(z.cpu().detach()/torch.max(z.cpu().detach()))"
   ]
  },
  {
   "cell_type": "code",
   "execution_count": 39,
   "id": "f4305395-c3da-4de5-898f-ad5cfcb2c3e6",
   "metadata": {},
   "outputs": [],
   "source": [
    "snr_range = np.arange(-15,16)"
   ]
  },
  {
   "cell_type": "code",
   "execution_count": 40,
   "id": "fed69757-81ef-4361-a33d-ca645cd7389c",
   "metadata": {},
   "outputs": [
    {
     "data": {
      "text/plain": [
       "[<matplotlib.lines.Line2D at 0x7f991c0dca60>]"
      ]
     },
     "execution_count": 40,
     "metadata": {},
     "output_type": "execute_result"
    },
    {
     "data": {
      "image/png": "[encoded data removed]",
      "text/plain": [
       "<Figure size 432x288 with 1 Axes>"
      ]
     },
     "metadata": {
      "needs_background": "light"
     },
     "output_type": "display_data"
    }
   ],
   "source": [
    "z_hats = np.zeros(len(snr_range),)\n",
    "for i, snr in enumerate(snr_range):\n",
    "    z_hat_db = 0\n",
    "    test_loader = gen_loader(num_frames=64, snr=[snr], batch_size=32, case=0)\n",
    "    for x,y,z in test_loader:\n",
    "        z_hat = model(x)\n",
    "        z_hat_db += 10*torch.log10(z_hat)\n",
    "    z_hats[i] = torch.sum(z_hat_db)/len(test_loader)/32\n",
    "    \n",
    "plt.plot(snr_range, z_hats)\n",
    "plt.plot(snr_range, snr_range)"
   ]
  },
  {
   "cell_type": "code",
   "execution_count": 41,
   "id": "b61052b5-0ffd-456e-9870-e6d57b344255",
   "metadata": {},
   "outputs": [
    {
     "data": {
      "text/plain": [
       "(0.0, 1.0)"
      ]
     },
     "execution_count": 41,
     "metadata": {},
     "output_type": "execute_result"
    },
    {
     "data": {
      "image/png": "[encoded data removed]",
      "text/plain": [
       "<Figure size 432x288 with 1 Axes>"
      ]
     },
     "metadata": {
      "needs_background": "light"
     },
     "output_type": "display_data"
    }
   ],
   "source": [
    "plt.plot(snr_range, 10**(z_hats/10))\n",
    "plt.plot(snr_range, 10**(snr_range/10))\n",
    "plt.ylim([0,1])"
   ]
  },
  {
   "attachments": {},
   "cell_type": "markdown",
   "id": "2eeeb5c3-9d8f-4e81-84a0-65109b3cf79c",
   "metadata": {},
   "source": [
    "## MSE Learning, log SNR"
   ]
  },
  {
   "cell_type": "code",
   "execution_count": 42,
   "id": "30725952-b696-4492-9d6b-06ad232a57bd",
   "metadata": {},
   "outputs": [],
   "source": [
    "model = snr_estimator(relu_output=False)\n",
    "model.cuda()\n",
    "optimizer = torch.optim.Adam(model.parameters(), lr=0.001, weight_decay=0.001)\n",
    "\n",
    "train_snr = np.arange(-15,16,2)\n",
    "\n",
    "train_loader = gen_loader(num_frames=64, snr=train_snr_range, batch_size=32, case=1)\n",
    "val_loader = gen_loader(num_frames=32, snr=train_snr_range, batch_size=32, case=1)\n",
    "\n",
    "num_epochs = 30\n",
    "loss_fn = nn.MSELoss()"
   ]
  },
  {
   "cell_type": "code",
   "execution_count": 43,
   "id": "f7ad2b27-5965-415c-b1a3-5f4468d6d6fc",
   "metadata": {},
   "outputs": [
    {
     "name": "stdout",
     "output_type": "stream",
     "text": [
      "val_losses[-1] = 1.0188261441886426, best_loss = inf, model saved at 0\n",
      "val_losses[-1] = 0.8416171399876475, best_loss = 1.0188261441886426, model saved at 1\n",
      "val_losses[-1] = 0.7317259900271893, best_loss = 0.8416171399876475, model saved at 6\n",
      "val_losses[-1] = 0.6147704347968102, best_loss = 0.7317259900271893, model saved at 7\n"
     ]
    }
   ],
   "source": [
    "model, losses, val_losses = train(model, optimizer, train_loader, val_loader, loss_fn, num_epochs=num_epochs)"
   ]
  },
  {
   "cell_type": "code",
   "execution_count": 44,
   "id": "bba2fc1d-e80a-4028-b4e4-e92fa4e7b7ae",
   "metadata": {},
   "outputs": [
    {
     "data": {
      "text/plain": [
       "[<matplotlib.lines.Line2D at 0x7f991c021d30>]"
      ]
     },
     "execution_count": 44,
     "metadata": {},
     "output_type": "execute_result"
    },
    {
     "data": {
      "image/png": "[encoded data removed]",
      "text/plain": [
       "<Figure size 432x288 with 1 Axes>"
      ]
     },
     "metadata": {
      "needs_background": "light"
     },
     "output_type": "display_data"
    }
   ],
   "source": [
    "plt.plot(losses)\n",
    "plt.plot(val_losses)\n",
    "# plt.ylim([0,2])"
   ]
  },
  {
   "cell_type": "code",
   "execution_count": 45,
   "id": "a5b35cd1-ccdf-43b3-bd88-51486105d984",
   "metadata": {},
   "outputs": [
    {
     "data": {
      "text/plain": [
       "[<matplotlib.lines.Line2D at 0x7f990fffda90>]"
      ]
     },
     "execution_count": 45,
     "metadata": {},
     "output_type": "execute_result"
    },
    {
     "data": {
      "image/png": "[encoded data removed]",
      "text/plain": [
       "<Figure size 432x288 with 1 Axes>"
      ]
     },
     "metadata": {
      "needs_background": "light"
     },
     "output_type": "display_data"
    }
   ],
   "source": [
    "z_hats = np.zeros(len(snr_range),)\n",
    "for i, snr in enumerate(snr_range):\n",
    "    z_hat_db = 0\n",
    "    test_loader = gen_loader(num_frames=64, snr=[snr], batch_size=32, case=1)\n",
    "    for x,y,z in test_loader:\n",
    "        z_hat_db += model(x)\n",
    "#         z_hat_db += 10*torch.log10(z_hat)\n",
    "    z_hats[i] = torch.sum(z_hat_db)/len(test_loader)/32\n",
    "    \n",
    "plt.plot(snr_range, z_hats)\n",
    "plt.plot(snr_range, snr_range)"
   ]
  },
  {
   "cell_type": "code",
   "execution_count": 46,
   "id": "a531153e-25dd-4eba-9c9c-c7e9789c71bd",
   "metadata": {},
   "outputs": [
    {
     "data": {
      "text/plain": [
       "[<matplotlib.lines.Line2D at 0x7f990ff586d0>]"
      ]
     },
     "execution_count": 46,
     "metadata": {},
     "output_type": "execute_result"
    },
    {
     "data": {
      "image/png": "[encoded data removed]",
      "text/plain": [
       "<Figure size 432x288 with 1 Axes>"
      ]
     },
     "metadata": {
      "needs_background": "light"
     },
     "output_type": "display_data"
    }
   ],
   "source": [
    "plt.plot(snr_range, 10**(z_hats/10))\n",
    "plt.plot(snr_range, 10**(snr_range/10))"
   ]
  }
 ],
 "metadata": {
  "kernelspec": {
   "display_name": "Python 3",
   "language": "python",
   "name": "python3"
  },
  "language_info": {
   "codemirror_mode": {
    "name": "ipython",
    "version": 3
   },
   "file_extension": ".py",
   "mimetype": "text/x-python",
   "name": "python",
   "nbconvert_exporter": "python",
   "pygments_lexer": "ipython3",
   "version": "3.8.8"
  }
 },
 "nbformat": 4,
 "nbformat_minor": 5
}

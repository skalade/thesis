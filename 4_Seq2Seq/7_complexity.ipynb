{
 "cells": [
  {
   "attachments": {},
   "cell_type": "markdown",
   "metadata": {},
   "source": [
    "# QPSK Demodulation Using LSTM Seq2Seq Autoencoder\n",
    "\n",
    "## Import libraries"
   ]
  },
  {
   "cell_type": "code",
   "execution_count": 1,
   "metadata": {},
   "outputs": [],
   "source": [
    "import numpy as np\n",
    "import matplotlib.pyplot as plt\n",
    "from matplotlib.lines import Line2D\n",
    "import pandas as pd\n",
    "\n",
    "import torch\n",
    "\n",
    "import torch.nn as nn\n",
    "from torch import optim\n",
    "import torch.nn.functional as F"
   ]
  },
  {
   "cell_type": "code",
   "execution_count": 28,
   "metadata": {},
   "outputs": [],
   "source": [
    "class EncoderRNN(nn.Module):\n",
    "    def __init__(self, input_size, hidden_size=128, num_layers=1, device='cpu', dropout=0):\n",
    "        super(EncoderRNN, self).__init__()\n",
    "        self.hidden_size = hidden_size\n",
    "        self.input_size = input_size\n",
    "        self.num_layers = num_layers\n",
    "        \n",
    "        self.rnn = nn.LSTM(input_size, hidden_size, num_layers=num_layers, dropout=dropout)\n",
    "\n",
    "    def forward(self, input, hidden):\n",
    "        \n",
    "        output, hidden = self.rnn(input, hidden)\n",
    "        \n",
    "        return output, hidden\n",
    "    \n",
    "    def initHidden(self, batch_size=32, device='cpu'):\n",
    "        return (torch.zeros(self.num_layers, batch_size, self.hidden_size, device=device), \n",
    "                torch.zeros(self.num_layers, batch_size, self.hidden_size, device=device))\n",
    "\n",
    "class EncoderConvRNN(nn.Module):\n",
    "    def __init__(self, input_size, hidden_size=128, num_layers=1, device='cpu', num_filters=16, dropout=0):\n",
    "        super(EncoderConvRNN, self).__init__()\n",
    "        self.hidden_size = hidden_size\n",
    "        self.input_size = input_size\n",
    "        self.num_layers = num_layers\n",
    "        \n",
    "        self.rnn = nn.LSTM(input_size, hidden_size, num_layers=num_layers, dropout=dropout, batch_first=True)\n",
    "        \n",
    "        self.conv1 = nn.Conv1d(2, num_filters, 9, padding=4)\n",
    "        self.conv2 = nn.Conv1d(num_filters, 8, 9)\n",
    "        self.maxpool = nn.MaxPool1d(2)\n",
    "\n",
    "    def forward(self, x):\n",
    "        \n",
    "        x = F.relu(self.conv1(x))\n",
    "        x = self.maxpool(x)\n",
    "        x = F.relu(self.conv2(x))\n",
    "        x = x.permute(0,2,1)\n",
    "#         x = x.permute(2,0,1)\n",
    "        \n",
    "        output, hidden = self.rnn(x)\n",
    "        \n",
    "        return output, hidden"
   ]
  },
  {
   "cell_type": "code",
   "execution_count": 122,
   "metadata": {},
   "outputs": [],
   "source": [
    "rnn_encoder = EncoderRNN(input_size=2, hidden_size=128, num_layers=3)\n",
    "conv_encoder = EncoderConvRNN(input_size=8, hidden_size=128, num_layers=3)\n",
    "small_rnn_encoder = EncoderRNN(input_size=2, hidden_size=128, num_layers=2)"
   ]
  },
  {
   "cell_type": "code",
   "execution_count": 123,
   "metadata": {},
   "outputs": [],
   "source": [
    "# Set the batch size and sequence length\n",
    "batch_size = 32\n",
    "seq_len = 50\n",
    "\n",
    "# Create a random input tensor\n",
    "input_tensor_rnn = torch.rand(seq_len, batch_size, 2)  # For rnn_encoder\n",
    "input_tensor_conv = torch.rand(batch_size, 2, seq_len)  # For conv_encoder\n",
    "\n",
    "# Initialize hidden state for the RNN encoder\n",
    "hidden_rnn = rnn_encoder.initHidden(batch_size=batch_size)\n",
    "small_hidden_rnn = small_rnn_encoder.initHidden(batch_size=batch_size)"
   ]
  },
  {
   "cell_type": "code",
   "execution_count": 112,
   "metadata": {},
   "outputs": [
    {
     "name": "stdout",
     "output_type": "stream",
     "text": [
      "26.5 ms ± 6.15 ms per loop (mean ± std. dev. of 7 runs, 10 loops each)\n"
     ]
    },
    {
     "data": {
      "text/plain": [
       "<TimeitResult : 26.5 ms ± 6.15 ms per loop (mean ± std. dev. of 7 runs, 10 loops each)>"
      ]
     },
     "execution_count": 112,
     "metadata": {},
     "output_type": "execute_result"
    }
   ],
   "source": [
    "%%timeit -o\n",
    "output_rnn, _ = rnn_encoder(input_tensor_rnn, hidden_rnn)"
   ]
  },
  {
   "cell_type": "code",
   "execution_count": 113,
   "metadata": {},
   "outputs": [],
   "source": [
    "result = _\n",
    "rnn_time = result.average"
   ]
  },
  {
   "cell_type": "code",
   "execution_count": 114,
   "metadata": {},
   "outputs": [
    {
     "name": "stdout",
     "output_type": "stream",
     "text": [
      "9.28 ms ± 711 µs per loop (mean ± std. dev. of 7 runs, 100 loops each)\n"
     ]
    },
    {
     "data": {
      "text/plain": [
       "<TimeitResult : 9.28 ms ± 711 µs per loop (mean ± std. dev. of 7 runs, 100 loops each)>"
      ]
     },
     "execution_count": 114,
     "metadata": {},
     "output_type": "execute_result"
    }
   ],
   "source": [
    "%%timeit -o\n",
    "output_conv, _ = conv_encoder(input_tensor_conv)"
   ]
  },
  {
   "cell_type": "code",
   "execution_count": 115,
   "metadata": {},
   "outputs": [],
   "source": [
    "result = _\n",
    "conv_time = result.average"
   ]
  },
  {
   "cell_type": "code",
   "execution_count": 116,
   "metadata": {},
   "outputs": [
    {
     "name": "stdout",
     "output_type": "stream",
     "text": [
      "17.5 ms ± 1.08 ms per loop (mean ± std. dev. of 7 runs, 100 loops each)\n"
     ]
    },
    {
     "data": {
      "text/plain": [
       "<TimeitResult : 17.5 ms ± 1.08 ms per loop (mean ± std. dev. of 7 runs, 100 loops each)>"
      ]
     },
     "execution_count": 116,
     "metadata": {},
     "output_type": "execute_result"
    }
   ],
   "source": [
    "%%timeit -o\n",
    "output_rnn, _ = small_rnn_encoder(input_tensor_rnn, small_hidden_rnn)"
   ]
  },
  {
   "cell_type": "code",
   "execution_count": 117,
   "metadata": {},
   "outputs": [],
   "source": [
    "result = _\n",
    "small_rnn_time = result.average"
   ]
  },
  {
   "cell_type": "code",
   "execution_count": 124,
   "metadata": {},
   "outputs": [],
   "source": [
    "# Set the batch size and sequence length\n",
    "batch_size = 32\n",
    "seq_len = 100\n",
    "\n",
    "# Create a random input tensor\n",
    "input_tensor_rnn = torch.rand(seq_len, batch_size, 2)  # For rnn_encoder\n",
    "input_tensor_conv = torch.rand(batch_size, 2, seq_len)  # For conv_encoder\n",
    "\n",
    "# Initialize hidden state for the RNN encoder\n",
    "hidden_rnn = rnn_encoder.initHidden(batch_size=batch_size)\n",
    "small_hidden_rnn = small_rnn_encoder.initHidden(batch_size=batch_size)"
   ]
  },
  {
   "cell_type": "code",
   "execution_count": 125,
   "metadata": {},
   "outputs": [
    {
     "name": "stdout",
     "output_type": "stream",
     "text": [
      "50.1 ms ± 5.4 ms per loop (mean ± std. dev. of 7 runs, 10 loops each)\n"
     ]
    },
    {
     "data": {
      "text/plain": [
       "<TimeitResult : 50.1 ms ± 5.4 ms per loop (mean ± std. dev. of 7 runs, 10 loops each)>"
      ]
     },
     "execution_count": 125,
     "metadata": {},
     "output_type": "execute_result"
    }
   ],
   "source": [
    "%%timeit -o\n",
    "output_rnn, _ = rnn_encoder(input_tensor_rnn, hidden_rnn)"
   ]
  },
  {
   "cell_type": "code",
   "execution_count": 126,
   "metadata": {},
   "outputs": [],
   "source": [
    "result = _\n",
    "rnn_time_100 = result.average"
   ]
  },
  {
   "cell_type": "code",
   "execution_count": 127,
   "metadata": {},
   "outputs": [
    {
     "name": "stdout",
     "output_type": "stream",
     "text": [
      "25.1 ms ± 6.6 ms per loop (mean ± std. dev. of 7 runs, 10 loops each)\n"
     ]
    },
    {
     "data": {
      "text/plain": [
       "<TimeitResult : 25.1 ms ± 6.6 ms per loop (mean ± std. dev. of 7 runs, 10 loops each)>"
      ]
     },
     "execution_count": 127,
     "metadata": {},
     "output_type": "execute_result"
    }
   ],
   "source": [
    "%%timeit -o\n",
    "output_conv, _ = conv_encoder(input_tensor_conv)"
   ]
  },
  {
   "cell_type": "code",
   "execution_count": 128,
   "metadata": {},
   "outputs": [],
   "source": [
    "result = _\n",
    "conv_time_100 = result.average"
   ]
  },
  {
   "cell_type": "code",
   "execution_count": 129,
   "metadata": {},
   "outputs": [
    {
     "name": "stdout",
     "output_type": "stream",
     "text": [
      "34.3 ms ± 5.6 ms per loop (mean ± std. dev. of 7 runs, 10 loops each)\n"
     ]
    },
    {
     "data": {
      "text/plain": [
       "<TimeitResult : 34.3 ms ± 5.6 ms per loop (mean ± std. dev. of 7 runs, 10 loops each)>"
      ]
     },
     "execution_count": 129,
     "metadata": {},
     "output_type": "execute_result"
    }
   ],
   "source": [
    "%%timeit -o\n",
    "output_rnn, _ = small_rnn_encoder(input_tensor_rnn, small_hidden_rnn)"
   ]
  },
  {
   "cell_type": "code",
   "execution_count": 130,
   "metadata": {},
   "outputs": [],
   "source": [
    "result = _\n",
    "small_rnn_time_100 = result.average"
   ]
  },
  {
   "cell_type": "code",
   "execution_count": 133,
   "metadata": {},
   "outputs": [],
   "source": [
    "# Set the batch size and sequence length\n",
    "batch_size = 32\n",
    "seq_len = 200\n",
    "\n",
    "# Create a random input tensor\n",
    "input_tensor_rnn = torch.rand(seq_len, batch_size, 2)  # For rnn_encoder\n",
    "input_tensor_conv = torch.rand(batch_size, 2, seq_len)  # For conv_encoder\n",
    "\n",
    "# Initialize hidden state for the RNN encoder\n",
    "hidden_rnn = rnn_encoder.initHidden(batch_size=batch_size)\n",
    "small_hidden_rnn = small_rnn_encoder.initHidden(batch_size=batch_size)"
   ]
  },
  {
   "cell_type": "code",
   "execution_count": 134,
   "metadata": {},
   "outputs": [
    {
     "name": "stdout",
     "output_type": "stream",
     "text": [
      "106 ms ± 15.9 ms per loop (mean ± std. dev. of 7 runs, 10 loops each)\n"
     ]
    },
    {
     "data": {
      "text/plain": [
       "<TimeitResult : 106 ms ± 15.9 ms per loop (mean ± std. dev. of 7 runs, 10 loops each)>"
      ]
     },
     "execution_count": 134,
     "metadata": {},
     "output_type": "execute_result"
    }
   ],
   "source": [
    "%%timeit -o\n",
    "output_rnn, _ = rnn_encoder(input_tensor_rnn, hidden_rnn)"
   ]
  },
  {
   "cell_type": "code",
   "execution_count": 135,
   "metadata": {},
   "outputs": [],
   "source": [
    "result = _\n",
    "rnn_time_200 = result.average"
   ]
  },
  {
   "cell_type": "code",
   "execution_count": 136,
   "metadata": {},
   "outputs": [
    {
     "name": "stdout",
     "output_type": "stream",
     "text": [
      "45.8 ms ± 5.38 ms per loop (mean ± std. dev. of 7 runs, 10 loops each)\n"
     ]
    },
    {
     "data": {
      "text/plain": [
       "<TimeitResult : 45.8 ms ± 5.38 ms per loop (mean ± std. dev. of 7 runs, 10 loops each)>"
      ]
     },
     "execution_count": 136,
     "metadata": {},
     "output_type": "execute_result"
    }
   ],
   "source": [
    "%%timeit -o\n",
    "output_conv, _ = conv_encoder(input_tensor_conv)"
   ]
  },
  {
   "cell_type": "code",
   "execution_count": 137,
   "metadata": {},
   "outputs": [],
   "source": [
    "result = _\n",
    "conv_time_200 = result.average"
   ]
  },
  {
   "cell_type": "code",
   "execution_count": 138,
   "metadata": {},
   "outputs": [
    {
     "name": "stdout",
     "output_type": "stream",
     "text": [
      "68.9 ms ± 15.8 ms per loop (mean ± std. dev. of 7 runs, 10 loops each)\n"
     ]
    },
    {
     "data": {
      "text/plain": [
       "<TimeitResult : 68.9 ms ± 15.8 ms per loop (mean ± std. dev. of 7 runs, 10 loops each)>"
      ]
     },
     "execution_count": 138,
     "metadata": {},
     "output_type": "execute_result"
    }
   ],
   "source": [
    "%%timeit -o\n",
    "output_rnn, _ = small_rnn_encoder(input_tensor_rnn, small_hidden_rnn)"
   ]
  },
  {
   "cell_type": "code",
   "execution_count": 139,
   "metadata": {},
   "outputs": [],
   "source": [
    "result = _\n",
    "small_rnn_time_200 = result.average"
   ]
  },
  {
   "cell_type": "code",
   "execution_count": 142,
   "metadata": {},
   "outputs": [],
   "source": [
    "df_times = pd.DataFrame(index = ['2 Layer LSTM', '3 layer LSTM', 'Conv + 2 Layer LSTM'],\n",
    "    data = {'50 samples' : [small_rnn_time, rnn_time, conv_time],\n",
    "            '100 samples' : [small_rnn_time_100, rnn_time_100, conv_time_100],\n",
    "            '200 samples' : [small_rnn_time_200, rnn_time_200, conv_time_200]})"
   ]
  },
  {
   "cell_type": "code",
   "execution_count": 156,
   "metadata": {},
   "outputs": [
    {
     "data": {
      "image/png": "[encoded data removed]",
      "text/plain": [
       "<Figure size 432x288 with 1 Axes>"
      ]
     },
     "metadata": {
      "needs_background": "light"
     },
     "output_type": "display_data"
    }
   ],
   "source": [
    "fig, ax = plt.subplots(1,1)#, figsize=(7,3))\n",
    "df_times.plot(ax=ax, kind='bar', rot=0)\n",
    "ax.set_title('Estimated Encoder Complexity')\n",
    "ax.grid(axis='y')\n",
    "ax.set_ylabel('Runtime in seconds')\n",
    "plt.tight_layout()\n",
    "# plt.savefig('figures/seq2seq_encoder_complexity.png', dpi=300, bbox_inches='tight')"
   ]
  },
  {
   "cell_type": "code",
   "execution_count": 33,
   "metadata": {},
   "outputs": [],
   "source": [
    "from fvcore.nn import FlopCountAnalysis"
   ]
  },
  {
   "cell_type": "code",
   "execution_count": 48,
   "metadata": {},
   "outputs": [],
   "source": [
    "flops = FlopCountAnalysis(conv_encoder, input_tensor_conv)"
   ]
  },
  {
   "cell_type": "code",
   "execution_count": 49,
   "metadata": {},
   "outputs": [
    {
     "name": "stderr",
     "output_type": "stream",
     "text": [
      "Unsupported operator aten::max_pool1d encountered 1 time(s)\n",
      "Unsupported operator aten::lstm encountered 1 time(s)\n"
     ]
    },
    {
     "name": "stdout",
     "output_type": "stream",
     "text": [
      "811008\n"
     ]
    }
   ],
   "source": [
    "print(flops.total())"
   ]
  },
  {
   "cell_type": "code",
   "execution_count": null,
   "metadata": {},
   "outputs": [],
   "source": [
    "# flops_per_timestep = 4 * (2 * (input_size * hidden_size + hidden_size))\n",
    "flops_per_timestep = 4 * (2 * (input_size * hidden_size + hidden_size))"
   ]
  },
  {
   "cell_type": "code",
   "execution_count": null,
   "metadata": {},
   "outputs": [],
   "source": [
    "layers * timesteps * 8 * 2 * hiddenSize * minibatch * (hiddenSize + 1)"
   ]
  },
  {
   "cell_type": "code",
   "execution_count": 52,
   "metadata": {},
   "outputs": [
    {
     "data": {
      "text/plain": [
       "2177"
      ]
     },
     "execution_count": 52,
     "metadata": {},
     "output_type": "execute_result"
    }
   ],
   "source": [
    "1 * 1 * 8 * 2 * 128 * 1 + 129"
   ]
  },
  {
   "cell_type": "code",
   "execution_count": 54,
   "metadata": {},
   "outputs": [
    {
     "data": {
      "text/plain": [
       "4224"
      ]
     },
     "execution_count": 54,
     "metadata": {},
     "output_type": "execute_result"
    }
   ],
   "source": [
    "8 * 2 * 128 *2 + 128"
   ]
  },
  {
   "cell_type": "code",
   "execution_count": null,
   "metadata": {},
   "outputs": [],
   "source": [
    "(input + hidden) * hidden * 4 * 2"
   ]
  },
  {
   "cell_type": "code",
   "execution_count": 56,
   "metadata": {},
   "outputs": [
    {
     "data": {
      "text/plain": [
       "133120"
      ]
     },
     "execution_count": 56,
     "metadata": {},
     "output_type": "execute_result"
    }
   ],
   "source": [
    "(2 + 128) * 128 * 8"
   ]
  },
  {
   "cell_type": "code",
   "execution_count": 57,
   "metadata": {},
   "outputs": [
    {
     "data": {
      "text/plain": [
       "1024"
      ]
     },
     "execution_count": 57,
     "metadata": {},
     "output_type": "execute_result"
    }
   ],
   "source": [
    "8 * 128"
   ]
  },
  {
   "cell_type": "code",
   "execution_count": null,
   "metadata": {},
   "outputs": [],
   "source": [
    "CCconv = (2 * (c * l * h)) * k * W * H"
   ]
  },
  {
   "cell_type": "code",
   "execution_count": 81,
   "metadata": {},
   "outputs": [],
   "source": [
    "conv_flops = ((2 * (9 * 1 * 2)) * 16 * (50+8) * 2) + ((2 * (9 * 1 * 2)) * 16 * 25 * 2)"
   ]
  },
  {
   "cell_type": "code",
   "execution_count": 64,
   "metadata": {},
   "outputs": [
    {
     "data": {
      "text/plain": [
       "66560"
      ]
     },
     "execution_count": 64,
     "metadata": {},
     "output_type": "execute_result"
    }
   ],
   "source": [
    "4 * 128 * 128 + 4 * 2 * 128"
   ]
  },
  {
   "cell_type": "code",
   "execution_count": 74,
   "metadata": {},
   "outputs": [
    {
     "data": {
      "text/plain": [
       "33024000"
      ]
     },
     "execution_count": 74,
     "metadata": {},
     "output_type": "execute_result"
    }
   ],
   "source": [
    "input_sizes = [2, 128, 128]\n",
    "hidden_size = 128\n",
    "sequence_length = 50\n",
    "layers = 3\n",
    "\n",
    "flops = 0\n",
    "for l in range(layers):\n",
    "    flops += 8 * sequence_length * (input_sizes[l] * hidden_size + hidden_size**2 + hidden_size)\n",
    "\n",
    "flops"
   ]
  },
  {
   "cell_type": "code",
   "execution_count": 78,
   "metadata": {},
   "outputs": [
    {
     "data": {
      "text/plain": [
       "19865600"
      ]
     },
     "execution_count": 78,
     "metadata": {},
     "output_type": "execute_result"
    }
   ],
   "source": [
    "input_sizes = [2, 128, 128]\n",
    "hidden_size = 128\n",
    "sequence_length = 50\n",
    "layers = 2\n",
    "\n",
    "flops = 0\n",
    "for l in range(layers):\n",
    "    flops += 8 * sequence_length * (input_sizes[l] * hidden_size + hidden_size**2 + hidden_size)\n",
    "\n",
    "flops"
   ]
  },
  {
   "cell_type": "code",
   "execution_count": 80,
   "metadata": {},
   "outputs": [
    {
     "data": {
      "text/plain": [
       "18.9453125"
      ]
     },
     "execution_count": 80,
     "metadata": {},
     "output_type": "execute_result"
    }
   ],
   "source": [
    "flops/1024/1024"
   ]
  },
  {
   "cell_type": "code",
   "execution_count": 82,
   "metadata": {},
   "outputs": [
    {
     "data": {
      "text/plain": [
       "0.0911865234375"
      ]
     },
     "execution_count": 82,
     "metadata": {},
     "output_type": "execute_result"
    }
   ],
   "source": [
    "conv_flops/1024/1024"
   ]
  },
  {
   "cell_type": "code",
   "execution_count": null,
   "metadata": {},
   "outputs": [],
   "source": []
  }
 ],
 "metadata": {
  "kernelspec": {
   "display_name": "Python 3",
   "language": "python",
   "name": "python3"
  },
  "language_info": {
   "codemirror_mode": {
    "name": "ipython",
    "version": 3
   },
   "file_extension": ".py",
   "mimetype": "text/x-python",
   "name": "python",
   "nbconvert_exporter": "python",
   "pygments_lexer": "ipython3",
   "version": "3.8.8"
  }
 },
 "nbformat": 4,
 "nbformat_minor": 4
}
